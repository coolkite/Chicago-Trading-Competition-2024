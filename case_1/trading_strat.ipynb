{
 "cells": [
  {
   "cell_type": "code",
   "execution_count": null,
   "metadata": {},
   "outputs": [],
   "source": [
    "import math\n",
    "from sympy import diff, solve, symbols"
   ]
  },
  {
   "cell_type": "code",
   "execution_count": null,
   "metadata": {},
   "outputs": [],
   "source": [
    "def grad(x, f, df, mu_k):\n",
    "    return df(x) + mu_k * math.cos(math.atan(df)) * math.sqrt(1 + f(x)**2)\n",
    "\n",
    "def solver(x, f, df, mu_k):\n",
    "    y = symbols('y')\n",
    "    return solve(grad(y, f, df, mu_k) - grad(x, f, df, mu_k), y)\n",
    "    "
   ]
  },
  {
   "cell_type": "code",
   "execution_count": null,
   "metadata": {},
   "outputs": [],
   "source": [
    "def g(V, k):\n",
    "    pass"
   ]
  },
  {
   "cell_type": "code",
   "execution_count": null,
   "metadata": {},
   "outputs": [],
   "source": [
    "# Derivative of f(x)  \n",
    "def df_dx(x):\n",
    "    pass\n",
    "\n",
    "# Probability density function f(x)\n",
    "def f(x): \n",
    "    pass"
   ]
  }
 ],
 "metadata": {
  "language_info": {
   "name": "python"
  }
 },
 "nbformat": 4,
 "nbformat_minor": 2
}
