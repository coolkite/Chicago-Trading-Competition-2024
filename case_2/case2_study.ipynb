{
 "cells": [
  {
   "cell_type": "code",
   "execution_count": 1,
   "metadata": {},
   "outputs": [
    {
     "ename": "KeyError",
     "evalue": "'Symbol'",
     "output_type": "error",
     "traceback": [
      "\u001b[0;31m---------------------------------------------------------------------------\u001b[0m",
      "\u001b[0;31mKeyError\u001b[0m                                  Traceback (most recent call last)",
      "File \u001b[0;32m~/anaconda3/envs/utc/lib/python3.10/site-packages/pandas/core/indexes/base.py:3802\u001b[0m, in \u001b[0;36mIndex.get_loc\u001b[0;34m(self, key, method, tolerance)\u001b[0m\n\u001b[1;32m   3801\u001b[0m \u001b[38;5;28;01mtry\u001b[39;00m:\n\u001b[0;32m-> 3802\u001b[0m     \u001b[38;5;28;01mreturn\u001b[39;00m \u001b[38;5;28;43mself\u001b[39;49m\u001b[38;5;241;43m.\u001b[39;49m\u001b[43m_engine\u001b[49m\u001b[38;5;241;43m.\u001b[39;49m\u001b[43mget_loc\u001b[49m\u001b[43m(\u001b[49m\u001b[43mcasted_key\u001b[49m\u001b[43m)\u001b[49m\n\u001b[1;32m   3803\u001b[0m \u001b[38;5;28;01mexcept\u001b[39;00m \u001b[38;5;167;01mKeyError\u001b[39;00m \u001b[38;5;28;01mas\u001b[39;00m err:\n",
      "File \u001b[0;32m~/anaconda3/envs/utc/lib/python3.10/site-packages/pandas/_libs/index.pyx:138\u001b[0m, in \u001b[0;36mpandas._libs.index.IndexEngine.get_loc\u001b[0;34m()\u001b[0m\n",
      "File \u001b[0;32m~/anaconda3/envs/utc/lib/python3.10/site-packages/pandas/_libs/index.pyx:165\u001b[0m, in \u001b[0;36mpandas._libs.index.IndexEngine.get_loc\u001b[0;34m()\u001b[0m\n",
      "File \u001b[0;32mpandas/_libs/hashtable_class_helper.pxi:5745\u001b[0m, in \u001b[0;36mpandas._libs.hashtable.PyObjectHashTable.get_item\u001b[0;34m()\u001b[0m\n",
      "File \u001b[0;32mpandas/_libs/hashtable_class_helper.pxi:5753\u001b[0m, in \u001b[0;36mpandas._libs.hashtable.PyObjectHashTable.get_item\u001b[0;34m()\u001b[0m\n",
      "\u001b[0;31mKeyError\u001b[0m: 'Symbol'",
      "\nThe above exception was the direct cause of the following exception:\n",
      "\u001b[0;31mKeyError\u001b[0m                                  Traceback (most recent call last)",
      "Cell \u001b[0;32mIn[1], line 6\u001b[0m\n\u001b[1;32m      3\u001b[0m \u001b[38;5;28;01mimport\u001b[39;00m \u001b[38;5;21;01mpandas\u001b[39;00m \u001b[38;5;28;01mas\u001b[39;00m \u001b[38;5;21;01mpd\u001b[39;00m\n\u001b[1;32m      5\u001b[0m data \u001b[38;5;241m=\u001b[39m pd\u001b[38;5;241m.\u001b[39mread_csv(\u001b[38;5;124m'\u001b[39m\u001b[38;5;124mCase 2 Data 2024.csv\u001b[39m\u001b[38;5;124m'\u001b[39m, index_col\u001b[38;5;241m=\u001b[39m\u001b[38;5;241m0\u001b[39m)\n\u001b[0;32m----> 6\u001b[0m symbols \u001b[38;5;241m=\u001b[39m \u001b[43mdata\u001b[49m\u001b[43m[\u001b[49m\u001b[38;5;124;43m'\u001b[39;49m\u001b[38;5;124;43mSymbol\u001b[39;49m\u001b[38;5;124;43m'\u001b[39;49m\u001b[43m]\u001b[49m\u001b[38;5;241m.\u001b[39munique()\n",
      "File \u001b[0;32m~/anaconda3/envs/utc/lib/python3.10/site-packages/pandas/core/frame.py:3807\u001b[0m, in \u001b[0;36mDataFrame.__getitem__\u001b[0;34m(self, key)\u001b[0m\n\u001b[1;32m   3805\u001b[0m \u001b[38;5;28;01mif\u001b[39;00m \u001b[38;5;28mself\u001b[39m\u001b[38;5;241m.\u001b[39mcolumns\u001b[38;5;241m.\u001b[39mnlevels \u001b[38;5;241m>\u001b[39m \u001b[38;5;241m1\u001b[39m:\n\u001b[1;32m   3806\u001b[0m     \u001b[38;5;28;01mreturn\u001b[39;00m \u001b[38;5;28mself\u001b[39m\u001b[38;5;241m.\u001b[39m_getitem_multilevel(key)\n\u001b[0;32m-> 3807\u001b[0m indexer \u001b[38;5;241m=\u001b[39m \u001b[38;5;28;43mself\u001b[39;49m\u001b[38;5;241;43m.\u001b[39;49m\u001b[43mcolumns\u001b[49m\u001b[38;5;241;43m.\u001b[39;49m\u001b[43mget_loc\u001b[49m\u001b[43m(\u001b[49m\u001b[43mkey\u001b[49m\u001b[43m)\u001b[49m\n\u001b[1;32m   3808\u001b[0m \u001b[38;5;28;01mif\u001b[39;00m is_integer(indexer):\n\u001b[1;32m   3809\u001b[0m     indexer \u001b[38;5;241m=\u001b[39m [indexer]\n",
      "File \u001b[0;32m~/anaconda3/envs/utc/lib/python3.10/site-packages/pandas/core/indexes/base.py:3804\u001b[0m, in \u001b[0;36mIndex.get_loc\u001b[0;34m(self, key, method, tolerance)\u001b[0m\n\u001b[1;32m   3802\u001b[0m     \u001b[38;5;28;01mreturn\u001b[39;00m \u001b[38;5;28mself\u001b[39m\u001b[38;5;241m.\u001b[39m_engine\u001b[38;5;241m.\u001b[39mget_loc(casted_key)\n\u001b[1;32m   3803\u001b[0m \u001b[38;5;28;01mexcept\u001b[39;00m \u001b[38;5;167;01mKeyError\u001b[39;00m \u001b[38;5;28;01mas\u001b[39;00m err:\n\u001b[0;32m-> 3804\u001b[0m     \u001b[38;5;28;01mraise\u001b[39;00m \u001b[38;5;167;01mKeyError\u001b[39;00m(key) \u001b[38;5;28;01mfrom\u001b[39;00m \u001b[38;5;21;01merr\u001b[39;00m\n\u001b[1;32m   3805\u001b[0m \u001b[38;5;28;01mexcept\u001b[39;00m \u001b[38;5;167;01mTypeError\u001b[39;00m:\n\u001b[1;32m   3806\u001b[0m     \u001b[38;5;66;03m# If we have a listlike key, _check_indexing_error will raise\u001b[39;00m\n\u001b[1;32m   3807\u001b[0m     \u001b[38;5;66;03m#  InvalidIndexError. Otherwise we fall through and re-raise\u001b[39;00m\n\u001b[1;32m   3808\u001b[0m     \u001b[38;5;66;03m#  the TypeError.\u001b[39;00m\n\u001b[1;32m   3809\u001b[0m     \u001b[38;5;28mself\u001b[39m\u001b[38;5;241m.\u001b[39m_check_indexing_error(key)\n",
      "\u001b[0;31mKeyError\u001b[0m: 'Symbol'"
     ]
    }
   ],
   "source": [
    "from universal import tools, algos\n",
    "from universal.algos import CRP\n",
    "import pandas as pd\n",
    "\n",
    "data = pd.read_csv('Case 2 Data 2024.csv', index_col=0)\n",
    "symbols = data['Symbol'].unique()"
   ]
  },
  {
   "cell_type": "code",
   "execution_count": 2,
   "metadata": {},
   "outputs": [
    {
     "name": "stdout",
     "output_type": "stream",
     "text": [
      "OLMAR\n",
      "Summary:\n",
      "    Profit factor: 1.06\n",
      "    Sharpe ratio: 0.52 ± 0.34\n",
      "    Ulcer index: 0.63\n",
      "    Information ratio (wrt benchmark): 0.31\n",
      "    Benchmark sharpe: 0.63 ± 0.35\n",
      "    Appraisal ratio (wrt benchmark): 0.28 ± 0.32\n",
      "    Beta / Alpha: 1.08 / 7.552%\n",
      "    Annualized return: 15.39%\n",
      "    Annualized volatility: 29.35%\n",
      "    Longest drawdown: 1374 days\n",
      "    Max drawdown: 50.62%\n",
      "    Winning days: 51.1%\n",
      "    Annual turnover: 267.9\n",
      "        \n"
     ]
    }
   ],
   "source": [
    "algo = algos.OLMAR(window=5, eps=10)\n",
    "# run\n",
    "print(data)\n",
    "result = algo.run(data)\n",
    "print(\"OLMAR\")\n",
    "print(result.summary())"
   ]
  },
  {
   "cell_type": "code",
   "execution_count": 4,
   "metadata": {},
   "outputs": [
    {
     "name": "stdout",
     "output_type": "stream",
     "text": [
      "BAH\n",
      "Summary:\n",
      "    Profit factor: 1.07\n",
      "    Sharpe ratio: 0.46 ± 0.33\n",
      "    Ulcer index: 0.58\n",
      "    Information ratio (wrt benchmark): -0.24\n",
      "    Benchmark sharpe: 0.63 ± 0.35\n",
      "    Appraisal ratio (wrt benchmark): -0.25 ± 0.32\n",
      "    Beta / Alpha: 1.01 / -1.414%\n",
      "    Annualized return: 5.88%\n",
      "    Annualized volatility: 12.80%\n",
      "    Longest drawdown: 575 days\n",
      "    Max drawdown: 23.62%\n",
      "    Winning days: 51.1%\n",
      "    Annual turnover: 0.0\n",
      "        \n"
     ]
    }
   ],
   "source": [
    "algo = algos.BAH()\n",
    "# run\n",
    "result = algo.run(data)\n",
    "print(\"BAH\")\n",
    "print(result.summary())"
   ]
  },
  {
   "cell_type": "code",
   "execution_count": 6,
   "metadata": {},
   "outputs": [
    {
     "name": "stdout",
     "output_type": "stream",
     "text": [
      "CRP\n",
      "Summary:\n",
      "    Profit factor: 1.10\n",
      "    Sharpe ratio: 0.63 ± 0.35\n",
      "    Ulcer index: 0.78\n",
      "    Information ratio (wrt benchmark): 0.00\n",
      "    Benchmark sharpe: 0.63 ± 0.35\n",
      "    Appraisal ratio (wrt benchmark): 0.00 ± 0.35\n",
      "    Beta / Alpha: 1.00 / 0.000%\n",
      "    Annualized return: 7.24%\n",
      "    Annualized volatility: 11.43%\n",
      "    Longest drawdown: 576 days\n",
      "    Max drawdown: 19.62%\n",
      "    Winning days: 51.2%\n",
      "    Annual turnover: 3.3\n",
      "        \n"
     ]
    }
   ],
   "source": [
    "algo = algos.CRP()\n",
    "# run\n",
    "result = algo.run(data)\n",
    "print(\"CRP\")\n",
    "print(result.summary())"
   ]
  },
  {
   "cell_type": "code",
   "execution_count": 8,
   "metadata": {},
   "outputs": [
    {
     "name": "stdout",
     "output_type": "stream",
     "text": [
      "BCRP\n",
      "Summary:\n",
      "    Profit factor: 1.13\n",
      "    Sharpe ratio: 0.86 ± 0.37\n",
      "    Ulcer index: 1.18\n",
      "    Information ratio (wrt benchmark): 0.55\n",
      "    Benchmark sharpe: 0.63 ± 0.35\n",
      "    Appraisal ratio (wrt benchmark): 0.58 ± 0.32\n",
      "    Beta / Alpha: 0.95 / 6.161%\n",
      "    Annualized return: 13.06%\n",
      "    Annualized volatility: 15.17%\n",
      "    Longest drawdown: 883 days\n",
      "    Max drawdown: 29.34%\n",
      "    Winning days: 52.3%\n",
      "    Annual turnover: 2.9\n",
      "        \n"
     ]
    }
   ],
   "source": [
    "algo = algos.BCRP()\n",
    "# run\n",
    "result = algo.run(data)\n",
    "print(\"BCRP\")\n",
    "print(result.summary())"
   ]
  },
  {
   "cell_type": "code",
   "execution_count": 11,
   "metadata": {},
   "outputs": [
    {
     "name": "stdout",
     "output_type": "stream",
     "text": [
      "UP\n",
      "Summary:\n",
      "    Profit factor: 1.09\n",
      "    Sharpe ratio: 0.62 ± 0.35\n",
      "    Ulcer index: 0.78\n",
      "    Information ratio (wrt benchmark): -0.18\n",
      "    Benchmark sharpe: 0.63 ± 0.35\n",
      "    Appraisal ratio (wrt benchmark): -0.17 ± 0.32\n",
      "    Beta / Alpha: 1.00 / -0.166%\n",
      "    Annualized return: 7.08%\n",
      "    Annualized volatility: 11.48%\n",
      "    Longest drawdown: 574 days\n",
      "    Max drawdown: 19.08%\n",
      "    Winning days: 51.1%\n",
      "    Annual turnover: 2.9\n",
      "        \n"
     ]
    }
   ],
   "source": [
    "algo = algos.UP()\n",
    "# run\n",
    "result = algo.run(data)\n",
    "print(\"UP\")\n",
    "print(result.summary())"
   ]
  },
  {
   "cell_type": "code",
   "execution_count": 12,
   "metadata": {},
   "outputs": [
    {
     "name": "stdout",
     "output_type": "stream",
     "text": [
      "EG\n",
      "Summary:\n",
      "    Profit factor: 1.09\n",
      "    Sharpe ratio: 0.63 ± 0.35\n",
      "    Ulcer index: 0.78\n",
      "    Information ratio (wrt benchmark): -0.12\n",
      "    Benchmark sharpe: 0.63 ± 0.35\n",
      "    Appraisal ratio (wrt benchmark): -0.11 ± 0.32\n",
      "    Beta / Alpha: 1.00 / -0.047%\n",
      "    Annualized return: 7.20%\n",
      "    Annualized volatility: 11.44%\n",
      "    Longest drawdown: 574 days\n",
      "    Max drawdown: 19.40%\n",
      "    Winning days: 51.0%\n",
      "    Annual turnover: 3.2\n",
      "        \n"
     ]
    }
   ],
   "source": [
    "algo = algos.EG()\n",
    "# run\n",
    "result = algo.run(data)\n",
    "print(\"EG\")\n",
    "print(result.summary())"
   ]
  },
  {
   "cell_type": "code",
   "execution_count": 14,
   "metadata": {},
   "outputs": [
    {
     "name": "stderr",
     "output_type": "stream",
     "text": [
      "c:\\Users\\Zara\\anaconda3\\envs\\testing\\lib\\site-packages\\universal\\algos\\anticor.py:44: UserWarning: scipy.weave is not available in python3, falling back to python version\n",
      "  warnings.warn(\n"
     ]
    },
    {
     "name": "stdout",
     "output_type": "stream",
     "text": [
      "Anticor\n",
      "Summary:\n",
      "    Profit factor: 1.07\n",
      "    Sharpe ratio: 0.54 ± 0.34\n",
      "    Ulcer index: 0.54\n",
      "    Information ratio (wrt benchmark): 0.31\n",
      "    Benchmark sharpe: 0.63 ± 0.35\n",
      "    Appraisal ratio (wrt benchmark): 0.30 ± 0.32\n",
      "    Beta / Alpha: 1.05 / 7.783%\n",
      "    Annualized return: 15.35%\n",
      "    Annualized volatility: 28.46%\n",
      "    Longest drawdown: 1590 days\n",
      "    Max drawdown: 56.37%\n",
      "    Winning days: 51.1%\n",
      "    Annual turnover: 67.0\n",
      "        \n"
     ]
    }
   ],
   "source": [
    "algo = algos.Anticor()\n",
    "# run\n",
    "result = algo.run(data)\n",
    "print(\"Anticor\")\n",
    "print(result.summary())"
   ]
  },
  {
   "cell_type": "code",
   "execution_count": 15,
   "metadata": {},
   "outputs": [
    {
     "name": "stderr",
     "output_type": "stream",
     "text": [
      "c:\\Users\\Zara\\anaconda3\\envs\\testing\\lib\\site-packages\\universal\\algos\\pamr.py:64: RuntimeWarning: divide by zero encountered in scalar divide\n",
      "  lam = le / np.linalg.norm(x - x_mean) ** 2\n"
     ]
    },
    {
     "name": "stdout",
     "output_type": "stream",
     "text": [
      "PAMR\n",
      "Summary:\n",
      "    Profit factor: 1.00\n",
      "    Sharpe ratio: 0.15 ± 0.32\n",
      "    Ulcer index: 0.13\n",
      "    Information ratio (wrt benchmark): -0.12\n",
      "    Benchmark sharpe: 0.63 ± 0.35\n",
      "    Appraisal ratio (wrt benchmark): -0.12 ± 0.32\n",
      "    Beta / Alpha: 1.01 / -3.165%\n",
      "    Annualized return: 4.13%\n",
      "    Annualized volatility: 28.17%\n",
      "    Longest drawdown: 2075 days\n",
      "    Max drawdown: 56.04%\n",
      "    Winning days: 49.6%\n",
      "    Annual turnover: 402.9\n",
      "        \n"
     ]
    }
   ],
   "source": [
    "algo = algos.PAMR()\n",
    "# run\n",
    "result = algo.run(data)\n",
    "print(\"PAMR\")\n",
    "print(result.summary())"
   ]
  },
  {
   "cell_type": "markdown",
   "metadata": {},
   "source": [
    "notes:\n",
    "slow (RMR)"
   ]
  },
  {
   "cell_type": "code",
   "execution_count": 16,
   "metadata": {},
   "outputs": [
    {
     "name": "stdout",
     "output_type": "stream",
     "text": [
      "RMR\n",
      "Summary:\n",
      "    Profit factor: 1.08\n",
      "    Sharpe ratio: 0.60 ± 0.34\n",
      "    Ulcer index: 1.11\n",
      "    Information ratio (wrt benchmark): 0.39\n",
      "    Benchmark sharpe: 0.63 ± 0.35\n",
      "    Appraisal ratio (wrt benchmark): 0.37 ± 0.32\n",
      "    Beta / Alpha: 1.07 / 10.064%\n",
      "    Annualized return: 17.84%\n",
      "    Annualized volatility: 29.59%\n",
      "    Longest drawdown: 572 days\n",
      "    Max drawdown: 35.71%\n",
      "    Winning days: 50.9%\n",
      "    Annual turnover: 282.4\n",
      "        \n"
     ]
    }
   ],
   "source": [
    "algo = algos.RMR()\n",
    "# run\n",
    "result = algo.run(data)\n",
    "print(\"RMR\")\n",
    "print(result.summary())"
   ]
  },
  {
   "cell_type": "code",
   "execution_count": 17,
   "metadata": {},
   "outputs": [
    {
     "name": "stdout",
     "output_type": "stream",
     "text": [
      "CWMR\n",
      "Summary:\n",
      "    Profit factor: 1.01\n",
      "    Sharpe ratio: 0.19 ± 0.32\n",
      "    Ulcer index: 0.18\n",
      "    Information ratio (wrt benchmark): -0.07\n",
      "    Benchmark sharpe: 0.63 ± 0.35\n",
      "    Appraisal ratio (wrt benchmark): -0.07 ± 0.32\n",
      "    Beta / Alpha: 1.01 / -1.844%\n",
      "    Annualized return: 5.49%\n",
      "    Annualized volatility: 28.21%\n",
      "    Longest drawdown: 2070 days\n",
      "    Max drawdown: 54.29%\n",
      "    Winning days: 50.1%\n",
      "    Annual turnover: 403.2\n",
      "        \n"
     ]
    }
   ],
   "source": [
    "algo = algos.CWMR()\n",
    "# run\n",
    "result = algo.run(data)\n",
    "print(\"CWMR\")\n",
    "print(result.summary())"
   ]
  },
  {
   "cell_type": "code",
   "execution_count": 18,
   "metadata": {},
   "outputs": [
    {
     "name": "stderr",
     "output_type": "stream",
     "text": [
      "c:\\Users\\Zara\\anaconda3\\envs\\testing\\lib\\site-packages\\universal\\algos\\pamr.py:64: RuntimeWarning: divide by zero encountered in scalar divide\n",
      "  lam = le / np.linalg.norm(x - x_mean) ** 2\n"
     ]
    },
    {
     "name": "stdout",
     "output_type": "stream",
     "text": [
      "WMAMR\n",
      "Summary:\n",
      "    Profit factor: 1.06\n",
      "    Sharpe ratio: 0.49 ± 0.33\n",
      "    Ulcer index: 0.73\n",
      "    Information ratio (wrt benchmark): 0.26\n",
      "    Benchmark sharpe: 0.63 ± 0.35\n",
      "    Appraisal ratio (wrt benchmark): 0.25 ± 0.32\n",
      "    Beta / Alpha: 1.02 / 6.703%\n",
      "    Annualized return: 14.10%\n",
      "    Annualized volatility: 28.73%\n",
      "    Longest drawdown: 970 days\n",
      "    Max drawdown: 44.20%\n",
      "    Winning days: 50.7%\n",
      "    Annual turnover: 197.6\n",
      "        \n"
     ]
    }
   ],
   "source": [
    "algo = algos.WMAMR()\n",
    "# run\n",
    "result = algo.run(data)\n",
    "print(\"WMAMR\")\n",
    "print(result.summary())"
   ]
  },
  {
   "cell_type": "markdown",
   "metadata": {},
   "source": [
    "# fix"
   ]
  },
  {
   "cell_type": "code",
   "execution_count": 20,
   "metadata": {},
   "outputs": [
    {
     "ename": "AttributeError",
     "evalue": "module 'universal.algos' has no attribute 'RPRT'",
     "output_type": "error",
     "traceback": [
      "\u001b[1;31m---------------------------------------------------------------------------\u001b[0m",
      "\u001b[1;31mAttributeError\u001b[0m                            Traceback (most recent call last)",
      "Cell \u001b[1;32mIn[20], line 1\u001b[0m\n\u001b[1;32m----> 1\u001b[0m algo \u001b[38;5;241m=\u001b[39m \u001b[43malgos\u001b[49m\u001b[38;5;241;43m.\u001b[39;49m\u001b[43mRPRT\u001b[49m(window \u001b[38;5;241m=\u001b[39m \u001b[38;5;241m5\u001b[39m, eps \u001b[38;5;241m=\u001b[39m \u001b[38;5;241m10\u001b[39m, theta \u001b[38;5;241m=\u001b[39m \u001b[38;5;241m10\u001b[39m)\n\u001b[0;32m      2\u001b[0m \u001b[38;5;66;03m# run\u001b[39;00m\n\u001b[0;32m      3\u001b[0m result \u001b[38;5;241m=\u001b[39m algo\u001b[38;5;241m.\u001b[39mrun(data)\n",
      "\u001b[1;31mAttributeError\u001b[0m: module 'universal.algos' has no attribute 'RPRT'"
     ]
    }
   ],
   "source": [
    "algo = algos.RPRT()\n",
    "# run\n",
    "result = algo.run(data)\n",
    "print(\"RPRT\")\n",
    "print(result.summary())"
   ]
  },
  {
   "cell_type": "markdown",
   "metadata": {},
   "source": [
    "notes: slow"
   ]
  },
  {
   "cell_type": "code",
   "execution_count": 22,
   "metadata": {},
   "outputs": [
    {
     "ename": "KeyboardInterrupt",
     "evalue": "",
     "output_type": "error",
     "traceback": [
      "\u001b[1;31m---------------------------------------------------------------------------\u001b[0m",
      "\u001b[1;31mKeyboardInterrupt\u001b[0m                         Traceback (most recent call last)",
      "Cell \u001b[1;32mIn[22], line 3\u001b[0m\n\u001b[0;32m      1\u001b[0m algo \u001b[38;5;241m=\u001b[39m algos\u001b[38;5;241m.\u001b[39mBNN()\n\u001b[0;32m      2\u001b[0m \u001b[38;5;66;03m# run\u001b[39;00m\n\u001b[1;32m----> 3\u001b[0m result \u001b[38;5;241m=\u001b[39m \u001b[43malgo\u001b[49m\u001b[38;5;241;43m.\u001b[39;49m\u001b[43mrun\u001b[49m\u001b[43m(\u001b[49m\u001b[43mdata\u001b[49m\u001b[43m)\u001b[49m\n\u001b[0;32m      4\u001b[0m \u001b[38;5;28mprint\u001b[39m(\u001b[38;5;124m\"\u001b[39m\u001b[38;5;124mBNN\u001b[39m\u001b[38;5;124m\"\u001b[39m)\n\u001b[0;32m      5\u001b[0m \u001b[38;5;28mprint\u001b[39m(result\u001b[38;5;241m.\u001b[39msummary())\n",
      "File \u001b[1;32mc:\\Users\\Zara\\anaconda3\\envs\\testing\\lib\\site-packages\\universal\\algo.py:136\u001b[0m, in \u001b[0;36mAlgo.run\u001b[1;34m(self, S, n_jobs, log_progress)\u001b[0m\n\u001b[0;32m    134\u001b[0m \u001b[38;5;28;01mif\u001b[39;00m n_jobs \u001b[38;5;241m==\u001b[39m \u001b[38;5;241m1\u001b[39m:\n\u001b[0;32m    135\u001b[0m     \u001b[38;5;28;01mtry\u001b[39;00m:\n\u001b[1;32m--> 136\u001b[0m         B \u001b[38;5;241m=\u001b[39m \u001b[38;5;28;43mself\u001b[39;49m\u001b[38;5;241;43m.\u001b[39;49m\u001b[43mweights\u001b[49m\u001b[43m(\u001b[49m\u001b[43mX\u001b[49m\u001b[43m,\u001b[49m\u001b[43m \u001b[49m\u001b[43mlog_progress\u001b[49m\u001b[38;5;241;43m=\u001b[39;49m\u001b[43mlog_progress\u001b[49m\u001b[43m)\u001b[49m\n\u001b[0;32m    137\u001b[0m     \u001b[38;5;28;01mexcept\u001b[39;00m \u001b[38;5;167;01mTypeError\u001b[39;00m:  \u001b[38;5;66;03m# weights are missing log_progress parameter\u001b[39;00m\n\u001b[0;32m    138\u001b[0m         B \u001b[38;5;241m=\u001b[39m \u001b[38;5;28mself\u001b[39m\u001b[38;5;241m.\u001b[39mweights(X)\n",
      "File \u001b[1;32mc:\\Users\\Zara\\anaconda3\\envs\\testing\\lib\\site-packages\\universal\\algo.py:93\u001b[0m, in \u001b[0;36mAlgo.weights\u001b[1;34m(self, X, min_history, log_progress)\u001b[0m\n\u001b[0;32m     91\u001b[0m \u001b[38;5;66;03m# predict for t+1\u001b[39;00m\n\u001b[0;32m     92\u001b[0m history \u001b[38;5;241m=\u001b[39m X\u001b[38;5;241m.\u001b[39miloc[: t \u001b[38;5;241m+\u001b[39m \u001b[38;5;241m1\u001b[39m]\n\u001b[1;32m---> 93\u001b[0m last_b \u001b[38;5;241m=\u001b[39m \u001b[38;5;28;43mself\u001b[39;49m\u001b[38;5;241;43m.\u001b[39;49m\u001b[43mstep\u001b[49m\u001b[43m(\u001b[49m\u001b[43mx\u001b[49m\u001b[43m,\u001b[49m\u001b[43m \u001b[49m\u001b[43mlast_b\u001b[49m\u001b[43m,\u001b[49m\u001b[43m \u001b[49m\u001b[43mhistory\u001b[49m\u001b[43m)\u001b[49m\n\u001b[0;32m     95\u001b[0m \u001b[38;5;66;03m# convert last_b to suitable format if needed\u001b[39;00m\n\u001b[0;32m     96\u001b[0m \u001b[38;5;28;01mif\u001b[39;00m \u001b[38;5;28mtype\u001b[39m(last_b) \u001b[38;5;241m==\u001b[39m np\u001b[38;5;241m.\u001b[39mmatrix:\n\u001b[0;32m     97\u001b[0m     \u001b[38;5;66;03m# remove dimension\u001b[39;00m\n",
      "File \u001b[1;32mc:\\Users\\Zara\\anaconda3\\envs\\testing\\lib\\site-packages\\universal\\algos\\bnn.py:44\u001b[0m, in \u001b[0;36mBNN.step\u001b[1;34m(self, x, last_b, history)\u001b[0m\n\u001b[0;32m     41\u001b[0m J \u001b[38;5;241m=\u001b[39m history\u001b[38;5;241m.\u001b[39miloc[[history\u001b[38;5;241m.\u001b[39mindex\u001b[38;5;241m.\u001b[39mget_loc(i) \u001b[38;5;241m+\u001b[39m \u001b[38;5;241m1\u001b[39m \u001b[38;5;28;01mfor\u001b[39;00m i \u001b[38;5;129;01min\u001b[39;00m ixs]]\n\u001b[0;32m     43\u001b[0m \u001b[38;5;66;03m# get best weights\u001b[39;00m\n\u001b[1;32m---> 44\u001b[0m \u001b[38;5;28;01mreturn\u001b[39;00m \u001b[43mtools\u001b[49m\u001b[38;5;241;43m.\u001b[39;49m\u001b[43mbcrp_weights\u001b[49m\u001b[43m(\u001b[49m\u001b[43mJ\u001b[49m\u001b[43m)\u001b[49m\n",
      "File \u001b[1;32mc:\\Users\\Zara\\anaconda3\\envs\\testing\\lib\\site-packages\\universal\\tools.py:272\u001b[0m, in \u001b[0;36mbcrp_weights\u001b[1;34m(X)\u001b[0m\n\u001b[0;32m    268\u001b[0m \u001b[38;5;28;01mdef\u001b[39;00m \u001b[38;5;21mbcrp_weights\u001b[39m(X):\n\u001b[0;32m    269\u001b[0m \u001b[38;5;250m    \u001b[39m\u001b[38;5;124;03m\"\"\"Find best constant rebalanced portfolio.\u001b[39;00m\n\u001b[0;32m    270\u001b[0m \u001b[38;5;124;03m    :param X: Prices in ratios.\u001b[39;00m\n\u001b[0;32m    271\u001b[0m \u001b[38;5;124;03m    \"\"\"\u001b[39;00m\n\u001b[1;32m--> 272\u001b[0m     \u001b[38;5;28;01mreturn\u001b[39;00m \u001b[43mopt_weights\u001b[49m\u001b[43m(\u001b[49m\u001b[43mX\u001b[49m\u001b[43m)\u001b[49m\n",
      "File \u001b[1;32mc:\\Users\\Zara\\anaconda3\\envs\\testing\\lib\\site-packages\\universal\\tools.py:177\u001b[0m, in \u001b[0;36mopt_weights\u001b[1;34m(X, metric, max_leverage, rf_rate, alpha, freq, no_cash, sd_factor, **kwargs)\u001b[0m\n\u001b[0;32m    173\u001b[0m     cons \u001b[38;5;241m=\u001b[39m ({\u001b[38;5;124m\"\u001b[39m\u001b[38;5;124mtype\u001b[39m\u001b[38;5;124m\"\u001b[39m: \u001b[38;5;124m\"\u001b[39m\u001b[38;5;124mineq\u001b[39m\u001b[38;5;124m\"\u001b[39m, \u001b[38;5;124m\"\u001b[39m\u001b[38;5;124mfun\u001b[39m\u001b[38;5;124m\"\u001b[39m: \u001b[38;5;28;01mlambda\u001b[39;00m b: max_leverage \u001b[38;5;241m-\u001b[39m \u001b[38;5;28msum\u001b[39m(b)},)\n\u001b[0;32m    175\u001b[0m \u001b[38;5;28;01mwhile\u001b[39;00m \u001b[38;5;28;01mTrue\u001b[39;00m:\n\u001b[0;32m    176\u001b[0m     \u001b[38;5;66;03m# problem optimization\u001b[39;00m\n\u001b[1;32m--> 177\u001b[0m     res \u001b[38;5;241m=\u001b[39m optimize\u001b[38;5;241m.\u001b[39mminimize(\n\u001b[0;32m    178\u001b[0m         objective,\n\u001b[0;32m    179\u001b[0m         x_0,\n\u001b[0;32m    180\u001b[0m         bounds\u001b[38;5;241m=\u001b[39m[(\u001b[38;5;241m0.0\u001b[39m, max_leverage)] \u001b[38;5;241m*\u001b[39m \u001b[38;5;28mlen\u001b[39m(x_0),\n\u001b[0;32m    181\u001b[0m         constraints\u001b[38;5;241m=\u001b[39mcons,\n\u001b[0;32m    182\u001b[0m         method\u001b[38;5;241m=\u001b[39m\u001b[38;5;124m\"\u001b[39m\u001b[38;5;124mslsqp\u001b[39m\u001b[38;5;124m\"\u001b[39m,\n\u001b[0;32m    183\u001b[0m         \u001b[38;5;241m*\u001b[39m\u001b[38;5;241m*\u001b[39mkwargs,\n\u001b[0;32m    184\u001b[0m     )\n\u001b[0;32m    186\u001b[0m     \u001b[38;5;66;03m# result can be out-of-bounds -> try it again\u001b[39;00m\n\u001b[0;32m    187\u001b[0m     EPS \u001b[38;5;241m=\u001b[39m \u001b[38;5;241m1e-7\u001b[39m\n",
      "File \u001b[1;32mc:\\Users\\Zara\\anaconda3\\envs\\testing\\lib\\site-packages\\scipy\\optimize\\_minimize.py:722\u001b[0m, in \u001b[0;36mminimize\u001b[1;34m(fun, x0, args, method, jac, hess, hessp, bounds, constraints, tol, callback, options)\u001b[0m\n\u001b[0;32m    719\u001b[0m     res \u001b[38;5;241m=\u001b[39m _minimize_cobyla(fun, x0, args, constraints, callback\u001b[38;5;241m=\u001b[39mcallback,\n\u001b[0;32m    720\u001b[0m                            bounds\u001b[38;5;241m=\u001b[39mbounds, \u001b[38;5;241m*\u001b[39m\u001b[38;5;241m*\u001b[39moptions)\n\u001b[0;32m    721\u001b[0m \u001b[38;5;28;01melif\u001b[39;00m meth \u001b[38;5;241m==\u001b[39m \u001b[38;5;124m'\u001b[39m\u001b[38;5;124mslsqp\u001b[39m\u001b[38;5;124m'\u001b[39m:\n\u001b[1;32m--> 722\u001b[0m     res \u001b[38;5;241m=\u001b[39m _minimize_slsqp(fun, x0, args, jac, bounds,\n\u001b[0;32m    723\u001b[0m                           constraints, callback\u001b[38;5;241m=\u001b[39mcallback, \u001b[38;5;241m*\u001b[39m\u001b[38;5;241m*\u001b[39moptions)\n\u001b[0;32m    724\u001b[0m \u001b[38;5;28;01melif\u001b[39;00m meth \u001b[38;5;241m==\u001b[39m \u001b[38;5;124m'\u001b[39m\u001b[38;5;124mtrust-constr\u001b[39m\u001b[38;5;124m'\u001b[39m:\n\u001b[0;32m    725\u001b[0m     res \u001b[38;5;241m=\u001b[39m _minimize_trustregion_constr(fun, x0, args, jac, hess, hessp,\n\u001b[0;32m    726\u001b[0m                                        bounds, constraints,\n\u001b[0;32m    727\u001b[0m                                        callback\u001b[38;5;241m=\u001b[39mcallback, \u001b[38;5;241m*\u001b[39m\u001b[38;5;241m*\u001b[39moptions)\n",
      "File \u001b[1;32mc:\\Users\\Zara\\anaconda3\\envs\\testing\\lib\\site-packages\\scipy\\optimize\\_slsqp_py.py:442\u001b[0m, in \u001b[0;36m_minimize_slsqp\u001b[1;34m(func, x0, args, jac, bounds, constraints, maxiter, ftol, iprint, disp, eps, callback, finite_diff_rel_step, **unknown_options)\u001b[0m\n\u001b[0;32m    440\u001b[0m \u001b[38;5;28;01mif\u001b[39;00m mode \u001b[38;5;241m==\u001b[39m \u001b[38;5;241m-\u001b[39m\u001b[38;5;241m1\u001b[39m:  \u001b[38;5;66;03m# gradient evaluation required\u001b[39;00m\n\u001b[0;32m    441\u001b[0m     g \u001b[38;5;241m=\u001b[39m append(wrapped_grad(x), \u001b[38;5;241m0.0\u001b[39m)\n\u001b[1;32m--> 442\u001b[0m     a \u001b[38;5;241m=\u001b[39m \u001b[43m_eval_con_normals\u001b[49m\u001b[43m(\u001b[49m\u001b[43mx\u001b[49m\u001b[43m,\u001b[49m\u001b[43m \u001b[49m\u001b[43mcons\u001b[49m\u001b[43m,\u001b[49m\u001b[43m \u001b[49m\u001b[43mla\u001b[49m\u001b[43m,\u001b[49m\u001b[43m \u001b[49m\u001b[43mn\u001b[49m\u001b[43m,\u001b[49m\u001b[43m \u001b[49m\u001b[43mm\u001b[49m\u001b[43m,\u001b[49m\u001b[43m \u001b[49m\u001b[43mmeq\u001b[49m\u001b[43m,\u001b[49m\u001b[43m \u001b[49m\u001b[43mmieq\u001b[49m\u001b[43m)\u001b[49m\n\u001b[0;32m    444\u001b[0m \u001b[38;5;28;01mif\u001b[39;00m majiter \u001b[38;5;241m>\u001b[39m majiter_prev:\n\u001b[0;32m    445\u001b[0m     \u001b[38;5;66;03m# call callback if major iteration has incremented\u001b[39;00m\n\u001b[0;32m    446\u001b[0m     \u001b[38;5;28;01mif\u001b[39;00m callback \u001b[38;5;129;01mis\u001b[39;00m \u001b[38;5;129;01mnot\u001b[39;00m \u001b[38;5;28;01mNone\u001b[39;00m:\n",
      "File \u001b[1;32mc:\\Users\\Zara\\anaconda3\\envs\\testing\\lib\\site-packages\\scipy\\optimize\\_slsqp_py.py:501\u001b[0m, in \u001b[0;36m_eval_con_normals\u001b[1;34m(x, cons, la, n, m, meq, mieq)\u001b[0m\n\u001b[0;32m    498\u001b[0m     a_eq \u001b[38;5;241m=\u001b[39m zeros((meq, n))\n\u001b[0;32m    500\u001b[0m \u001b[38;5;28;01mif\u001b[39;00m cons[\u001b[38;5;124m'\u001b[39m\u001b[38;5;124mineq\u001b[39m\u001b[38;5;124m'\u001b[39m]:\n\u001b[1;32m--> 501\u001b[0m     a_ieq \u001b[38;5;241m=\u001b[39m vstack([con[\u001b[38;5;124m'\u001b[39m\u001b[38;5;124mjac\u001b[39m\u001b[38;5;124m'\u001b[39m](x, \u001b[38;5;241m*\u001b[39mcon[\u001b[38;5;124m'\u001b[39m\u001b[38;5;124margs\u001b[39m\u001b[38;5;124m'\u001b[39m])\n\u001b[0;32m    502\u001b[0m                     \u001b[38;5;28;01mfor\u001b[39;00m con \u001b[38;5;129;01min\u001b[39;00m cons[\u001b[38;5;124m'\u001b[39m\u001b[38;5;124mineq\u001b[39m\u001b[38;5;124m'\u001b[39m]])\n\u001b[0;32m    503\u001b[0m \u001b[38;5;28;01melse\u001b[39;00m:  \u001b[38;5;66;03m# no inequality constraint\u001b[39;00m\n\u001b[0;32m    504\u001b[0m     a_ieq \u001b[38;5;241m=\u001b[39m zeros((mieq, n))\n",
      "File \u001b[1;32mc:\\Users\\Zara\\anaconda3\\envs\\testing\\lib\\site-packages\\scipy\\optimize\\_slsqp_py.py:501\u001b[0m, in \u001b[0;36m<listcomp>\u001b[1;34m(.0)\u001b[0m\n\u001b[0;32m    498\u001b[0m     a_eq \u001b[38;5;241m=\u001b[39m zeros((meq, n))\n\u001b[0;32m    500\u001b[0m \u001b[38;5;28;01mif\u001b[39;00m cons[\u001b[38;5;124m'\u001b[39m\u001b[38;5;124mineq\u001b[39m\u001b[38;5;124m'\u001b[39m]:\n\u001b[1;32m--> 501\u001b[0m     a_ieq \u001b[38;5;241m=\u001b[39m vstack([\u001b[43mcon\u001b[49m\u001b[43m[\u001b[49m\u001b[38;5;124;43m'\u001b[39;49m\u001b[38;5;124;43mjac\u001b[39;49m\u001b[38;5;124;43m'\u001b[39;49m\u001b[43m]\u001b[49m\u001b[43m(\u001b[49m\u001b[43mx\u001b[49m\u001b[43m,\u001b[49m\u001b[43m \u001b[49m\u001b[38;5;241;43m*\u001b[39;49m\u001b[43mcon\u001b[49m\u001b[43m[\u001b[49m\u001b[38;5;124;43m'\u001b[39;49m\u001b[38;5;124;43margs\u001b[39;49m\u001b[38;5;124;43m'\u001b[39;49m\u001b[43m]\u001b[49m\u001b[43m)\u001b[49m\n\u001b[0;32m    502\u001b[0m                     \u001b[38;5;28;01mfor\u001b[39;00m con \u001b[38;5;129;01min\u001b[39;00m cons[\u001b[38;5;124m'\u001b[39m\u001b[38;5;124mineq\u001b[39m\u001b[38;5;124m'\u001b[39m]])\n\u001b[0;32m    503\u001b[0m \u001b[38;5;28;01melse\u001b[39;00m:  \u001b[38;5;66;03m# no inequality constraint\u001b[39;00m\n\u001b[0;32m    504\u001b[0m     a_ieq \u001b[38;5;241m=\u001b[39m zeros((mieq, n))\n",
      "File \u001b[1;32mc:\\Users\\Zara\\anaconda3\\envs\\testing\\lib\\site-packages\\scipy\\optimize\\_slsqp_py.py:310\u001b[0m, in \u001b[0;36m_minimize_slsqp.<locals>.cjac_factory.<locals>.cjac\u001b[1;34m(x, *args)\u001b[0m\n\u001b[0;32m    306\u001b[0m     \u001b[38;5;28;01mreturn\u001b[39;00m approx_derivative(fun, x, method\u001b[38;5;241m=\u001b[39mjac, args\u001b[38;5;241m=\u001b[39margs,\n\u001b[0;32m    307\u001b[0m                              rel_step\u001b[38;5;241m=\u001b[39mfinite_diff_rel_step,\n\u001b[0;32m    308\u001b[0m                              bounds\u001b[38;5;241m=\u001b[39mnew_bounds)\n\u001b[0;32m    309\u001b[0m \u001b[38;5;28;01melse\u001b[39;00m:\n\u001b[1;32m--> 310\u001b[0m     \u001b[38;5;28;01mreturn\u001b[39;00m \u001b[43mapprox_derivative\u001b[49m\u001b[43m(\u001b[49m\u001b[43mfun\u001b[49m\u001b[43m,\u001b[49m\u001b[43m \u001b[49m\u001b[43mx\u001b[49m\u001b[43m,\u001b[49m\u001b[43m \u001b[49m\u001b[43mmethod\u001b[49m\u001b[38;5;241;43m=\u001b[39;49m\u001b[38;5;124;43m'\u001b[39;49m\u001b[38;5;124;43m2-point\u001b[39;49m\u001b[38;5;124;43m'\u001b[39;49m\u001b[43m,\u001b[49m\n\u001b[0;32m    311\u001b[0m \u001b[43m                             \u001b[49m\u001b[43mabs_step\u001b[49m\u001b[38;5;241;43m=\u001b[39;49m\u001b[43mepsilon\u001b[49m\u001b[43m,\u001b[49m\u001b[43m \u001b[49m\u001b[43margs\u001b[49m\u001b[38;5;241;43m=\u001b[39;49m\u001b[43margs\u001b[49m\u001b[43m,\u001b[49m\n\u001b[0;32m    312\u001b[0m \u001b[43m                             \u001b[49m\u001b[43mbounds\u001b[49m\u001b[38;5;241;43m=\u001b[39;49m\u001b[43mnew_bounds\u001b[49m\u001b[43m)\u001b[49m\n",
      "File \u001b[1;32mc:\\Users\\Zara\\anaconda3\\envs\\testing\\lib\\site-packages\\scipy\\optimize\\_numdiff.py:510\u001b[0m, in \u001b[0;36mapprox_derivative\u001b[1;34m(fun, x0, method, rel_step, abs_step, f0, bounds, sparsity, as_linear_operator, args, kwargs)\u001b[0m\n\u001b[0;32m    504\u001b[0m     h \u001b[38;5;241m=\u001b[39m np\u001b[38;5;241m.\u001b[39mwhere(dx \u001b[38;5;241m==\u001b[39m \u001b[38;5;241m0\u001b[39m,\n\u001b[0;32m    505\u001b[0m                  _eps_for_method(x0\u001b[38;5;241m.\u001b[39mdtype, f0\u001b[38;5;241m.\u001b[39mdtype, method) \u001b[38;5;241m*\u001b[39m\n\u001b[0;32m    506\u001b[0m                  sign_x0 \u001b[38;5;241m*\u001b[39m np\u001b[38;5;241m.\u001b[39mmaximum(\u001b[38;5;241m1.0\u001b[39m, np\u001b[38;5;241m.\u001b[39mabs(x0)),\n\u001b[0;32m    507\u001b[0m                  h)\n\u001b[0;32m    509\u001b[0m \u001b[38;5;28;01mif\u001b[39;00m method \u001b[38;5;241m==\u001b[39m \u001b[38;5;124m'\u001b[39m\u001b[38;5;124m2-point\u001b[39m\u001b[38;5;124m'\u001b[39m:\n\u001b[1;32m--> 510\u001b[0m     h, use_one_sided \u001b[38;5;241m=\u001b[39m \u001b[43m_adjust_scheme_to_bounds\u001b[49m\u001b[43m(\u001b[49m\n\u001b[0;32m    511\u001b[0m \u001b[43m        \u001b[49m\u001b[43mx0\u001b[49m\u001b[43m,\u001b[49m\u001b[43m \u001b[49m\u001b[43mh\u001b[49m\u001b[43m,\u001b[49m\u001b[43m \u001b[49m\u001b[38;5;241;43m1\u001b[39;49m\u001b[43m,\u001b[49m\u001b[43m \u001b[49m\u001b[38;5;124;43m'\u001b[39;49m\u001b[38;5;124;43m1-sided\u001b[39;49m\u001b[38;5;124;43m'\u001b[39;49m\u001b[43m,\u001b[49m\u001b[43m \u001b[49m\u001b[43mlb\u001b[49m\u001b[43m,\u001b[49m\u001b[43m \u001b[49m\u001b[43mub\u001b[49m\u001b[43m)\u001b[49m\n\u001b[0;32m    512\u001b[0m \u001b[38;5;28;01melif\u001b[39;00m method \u001b[38;5;241m==\u001b[39m \u001b[38;5;124m'\u001b[39m\u001b[38;5;124m3-point\u001b[39m\u001b[38;5;124m'\u001b[39m:\n\u001b[0;32m    513\u001b[0m     h, use_one_sided \u001b[38;5;241m=\u001b[39m _adjust_scheme_to_bounds(\n\u001b[0;32m    514\u001b[0m         x0, h, \u001b[38;5;241m1\u001b[39m, \u001b[38;5;124m'\u001b[39m\u001b[38;5;124m2-sided\u001b[39m\u001b[38;5;124m'\u001b[39m, lb, ub)\n",
      "File \u001b[1;32mc:\\Users\\Zara\\anaconda3\\envs\\testing\\lib\\site-packages\\scipy\\optimize\\_numdiff.py:55\u001b[0m, in \u001b[0;36m_adjust_scheme_to_bounds\u001b[1;34m(x0, h, num_steps, scheme, lb, ub)\u001b[0m\n\u001b[0;32m     52\u001b[0m     \u001b[38;5;28;01mreturn\u001b[39;00m h, use_one_sided\n\u001b[0;32m     54\u001b[0m h_total \u001b[38;5;241m=\u001b[39m h \u001b[38;5;241m*\u001b[39m num_steps\n\u001b[1;32m---> 55\u001b[0m h_adjusted \u001b[38;5;241m=\u001b[39m \u001b[43mh\u001b[49m\u001b[38;5;241;43m.\u001b[39;49m\u001b[43mcopy\u001b[49m\u001b[43m(\u001b[49m\u001b[43m)\u001b[49m\n\u001b[0;32m     57\u001b[0m lower_dist \u001b[38;5;241m=\u001b[39m x0 \u001b[38;5;241m-\u001b[39m lb\n\u001b[0;32m     58\u001b[0m upper_dist \u001b[38;5;241m=\u001b[39m ub \u001b[38;5;241m-\u001b[39m x0\n",
      "\u001b[1;31mKeyboardInterrupt\u001b[0m: "
     ]
    }
   ],
   "source": [
    "algo = algos.BNN()\n",
    "# run\n",
    "result = algo.run(data)\n",
    "print(\"BNN\")\n",
    "print(result.summary())"
   ]
  },
  {
   "cell_type": "markdown",
   "metadata": {},
   "source": [
    "notes: slow - 2min+"
   ]
  },
  {
   "cell_type": "code",
   "execution_count": 21,
   "metadata": {},
   "outputs": [
    {
     "ename": "KeyboardInterrupt",
     "evalue": "",
     "output_type": "error",
     "traceback": [
      "\u001b[1;31m---------------------------------------------------------------------------\u001b[0m",
      "\u001b[1;31mKeyboardInterrupt\u001b[0m                         Traceback (most recent call last)",
      "Cell \u001b[1;32mIn[21], line 3\u001b[0m\n\u001b[0;32m      1\u001b[0m algo \u001b[38;5;241m=\u001b[39m algos\u001b[38;5;241m.\u001b[39mCORN()\n\u001b[0;32m      2\u001b[0m \u001b[38;5;66;03m# run\u001b[39;00m\n\u001b[1;32m----> 3\u001b[0m result \u001b[38;5;241m=\u001b[39m \u001b[43malgo\u001b[49m\u001b[38;5;241;43m.\u001b[39;49m\u001b[43mrun\u001b[49m\u001b[43m(\u001b[49m\u001b[43mdata\u001b[49m\u001b[43m)\u001b[49m\n\u001b[0;32m      4\u001b[0m \u001b[38;5;28mprint\u001b[39m(\u001b[38;5;124m\"\u001b[39m\u001b[38;5;124mCORN\u001b[39m\u001b[38;5;124m\"\u001b[39m)\n\u001b[0;32m      5\u001b[0m \u001b[38;5;28mprint\u001b[39m(result\u001b[38;5;241m.\u001b[39msummary())\n",
      "File \u001b[1;32mc:\\Users\\Zara\\anaconda3\\envs\\testing\\lib\\site-packages\\universal\\algo.py:136\u001b[0m, in \u001b[0;36mAlgo.run\u001b[1;34m(self, S, n_jobs, log_progress)\u001b[0m\n\u001b[0;32m    134\u001b[0m \u001b[38;5;28;01mif\u001b[39;00m n_jobs \u001b[38;5;241m==\u001b[39m \u001b[38;5;241m1\u001b[39m:\n\u001b[0;32m    135\u001b[0m     \u001b[38;5;28;01mtry\u001b[39;00m:\n\u001b[1;32m--> 136\u001b[0m         B \u001b[38;5;241m=\u001b[39m \u001b[38;5;28;43mself\u001b[39;49m\u001b[38;5;241;43m.\u001b[39;49m\u001b[43mweights\u001b[49m\u001b[43m(\u001b[49m\u001b[43mX\u001b[49m\u001b[43m,\u001b[49m\u001b[43m \u001b[49m\u001b[43mlog_progress\u001b[49m\u001b[38;5;241;43m=\u001b[39;49m\u001b[43mlog_progress\u001b[49m\u001b[43m)\u001b[49m\n\u001b[0;32m    137\u001b[0m     \u001b[38;5;28;01mexcept\u001b[39;00m \u001b[38;5;167;01mTypeError\u001b[39;00m:  \u001b[38;5;66;03m# weights are missing log_progress parameter\u001b[39;00m\n\u001b[0;32m    138\u001b[0m         B \u001b[38;5;241m=\u001b[39m \u001b[38;5;28mself\u001b[39m\u001b[38;5;241m.\u001b[39mweights(X)\n",
      "File \u001b[1;32mc:\\Users\\Zara\\anaconda3\\envs\\testing\\lib\\site-packages\\universal\\algo.py:93\u001b[0m, in \u001b[0;36mAlgo.weights\u001b[1;34m(self, X, min_history, log_progress)\u001b[0m\n\u001b[0;32m     91\u001b[0m \u001b[38;5;66;03m# predict for t+1\u001b[39;00m\n\u001b[0;32m     92\u001b[0m history \u001b[38;5;241m=\u001b[39m X\u001b[38;5;241m.\u001b[39miloc[: t \u001b[38;5;241m+\u001b[39m \u001b[38;5;241m1\u001b[39m]\n\u001b[1;32m---> 93\u001b[0m last_b \u001b[38;5;241m=\u001b[39m \u001b[38;5;28;43mself\u001b[39;49m\u001b[38;5;241;43m.\u001b[39;49m\u001b[43mstep\u001b[49m\u001b[43m(\u001b[49m\u001b[43mx\u001b[49m\u001b[43m,\u001b[49m\u001b[43m \u001b[49m\u001b[43mlast_b\u001b[49m\u001b[43m,\u001b[49m\u001b[43m \u001b[49m\u001b[43mhistory\u001b[49m\u001b[43m)\u001b[49m\n\u001b[0;32m     95\u001b[0m \u001b[38;5;66;03m# convert last_b to suitable format if needed\u001b[39;00m\n\u001b[0;32m     96\u001b[0m \u001b[38;5;28;01mif\u001b[39;00m \u001b[38;5;28mtype\u001b[39m(last_b) \u001b[38;5;241m==\u001b[39m np\u001b[38;5;241m.\u001b[39mmatrix:\n\u001b[0;32m     97\u001b[0m     \u001b[38;5;66;03m# remove dimension\u001b[39;00m\n",
      "File \u001b[1;32mc:\\Users\\Zara\\anaconda3\\envs\\testing\\lib\\site-packages\\universal\\algos\\corn.py:111\u001b[0m, in \u001b[0;36mCORN.step_fast\u001b[1;34m(self, x, last_b, history)\u001b[0m\n\u001b[0;32m    109\u001b[0m X_t \u001b[38;5;241m=\u001b[39m \u001b[38;5;28mself\u001b[39m\u001b[38;5;241m.\u001b[39mX_flat\u001b[38;5;241m.\u001b[39miloc[\u001b[38;5;28mself\u001b[39m\u001b[38;5;241m.\u001b[39mt]\n\u001b[0;32m    110\u001b[0m X_i \u001b[38;5;241m=\u001b[39m \u001b[38;5;28mself\u001b[39m\u001b[38;5;241m.\u001b[39mX_flat\u001b[38;5;241m.\u001b[39miloc[window \u001b[38;5;241m-\u001b[39m \u001b[38;5;241m1\u001b[39m : \u001b[38;5;28mself\u001b[39m\u001b[38;5;241m.\u001b[39mt]\n\u001b[1;32m--> 111\u001b[0m c \u001b[38;5;241m=\u001b[39m \u001b[43mX_i\u001b[49m\u001b[38;5;241;43m.\u001b[39;49m\u001b[43mapply\u001b[49m\u001b[43m(\u001b[49m\u001b[38;5;28;43;01mlambda\u001b[39;49;00m\u001b[43m \u001b[49m\u001b[43mr\u001b[49m\u001b[43m:\u001b[49m\u001b[43m \u001b[49m\u001b[43mnp\u001b[49m\u001b[38;5;241;43m.\u001b[39;49m\u001b[43mcorrcoef\u001b[49m\u001b[43m(\u001b[49m\u001b[43mr\u001b[49m\u001b[38;5;241;43m.\u001b[39;49m\u001b[43mvalues\u001b[49m\u001b[43m,\u001b[49m\u001b[43m \u001b[49m\u001b[43mX_t\u001b[49m\u001b[38;5;241;43m.\u001b[39;49m\u001b[43mvalues\u001b[49m\u001b[43m)\u001b[49m\u001b[43m[\u001b[49m\u001b[38;5;241;43m0\u001b[39;49m\u001b[43m,\u001b[49m\u001b[43m \u001b[49m\u001b[38;5;241;43m1\u001b[39;49m\u001b[43m]\u001b[49m\u001b[43m,\u001b[49m\u001b[43m \u001b[49m\u001b[43maxis\u001b[49m\u001b[38;5;241;43m=\u001b[39;49m\u001b[38;5;241;43m1\u001b[39;49m\u001b[43m)\u001b[49m\n\u001b[0;32m    113\u001b[0m C \u001b[38;5;241m=\u001b[39m \u001b[38;5;28mself\u001b[39m\u001b[38;5;241m.\u001b[39mX\u001b[38;5;241m.\u001b[39miloc[c\u001b[38;5;241m.\u001b[39mindex[c \u001b[38;5;241m>\u001b[39m\u001b[38;5;241m=\u001b[39m \u001b[38;5;28mself\u001b[39m\u001b[38;5;241m.\u001b[39mrho] \u001b[38;5;241m+\u001b[39m \u001b[38;5;241m1\u001b[39m]\n\u001b[0;32m    115\u001b[0m \u001b[38;5;28;01mif\u001b[39;00m C\u001b[38;5;241m.\u001b[39mshape[\u001b[38;5;241m0\u001b[39m] \u001b[38;5;241m==\u001b[39m \u001b[38;5;241m0\u001b[39m:\n",
      "File \u001b[1;32mc:\\Users\\Zara\\anaconda3\\envs\\testing\\lib\\site-packages\\pandas\\core\\frame.py:9568\u001b[0m, in \u001b[0;36mDataFrame.apply\u001b[1;34m(self, func, axis, raw, result_type, args, **kwargs)\u001b[0m\n\u001b[0;32m   9557\u001b[0m \u001b[38;5;28;01mfrom\u001b[39;00m \u001b[38;5;21;01mpandas\u001b[39;00m\u001b[38;5;21;01m.\u001b[39;00m\u001b[38;5;21;01mcore\u001b[39;00m\u001b[38;5;21;01m.\u001b[39;00m\u001b[38;5;21;01mapply\u001b[39;00m \u001b[38;5;28;01mimport\u001b[39;00m frame_apply\n\u001b[0;32m   9559\u001b[0m op \u001b[38;5;241m=\u001b[39m frame_apply(\n\u001b[0;32m   9560\u001b[0m     \u001b[38;5;28mself\u001b[39m,\n\u001b[0;32m   9561\u001b[0m     func\u001b[38;5;241m=\u001b[39mfunc,\n\u001b[1;32m   (...)\u001b[0m\n\u001b[0;32m   9566\u001b[0m     kwargs\u001b[38;5;241m=\u001b[39mkwargs,\n\u001b[0;32m   9567\u001b[0m )\n\u001b[1;32m-> 9568\u001b[0m \u001b[38;5;28;01mreturn\u001b[39;00m \u001b[43mop\u001b[49m\u001b[38;5;241;43m.\u001b[39;49m\u001b[43mapply\u001b[49m\u001b[43m(\u001b[49m\u001b[43m)\u001b[49m\u001b[38;5;241m.\u001b[39m__finalize__(\u001b[38;5;28mself\u001b[39m, method\u001b[38;5;241m=\u001b[39m\u001b[38;5;124m\"\u001b[39m\u001b[38;5;124mapply\u001b[39m\u001b[38;5;124m\"\u001b[39m)\n",
      "File \u001b[1;32mc:\\Users\\Zara\\anaconda3\\envs\\testing\\lib\\site-packages\\pandas\\core\\apply.py:764\u001b[0m, in \u001b[0;36mFrameApply.apply\u001b[1;34m(self)\u001b[0m\n\u001b[0;32m    761\u001b[0m \u001b[38;5;28;01melif\u001b[39;00m \u001b[38;5;28mself\u001b[39m\u001b[38;5;241m.\u001b[39mraw:\n\u001b[0;32m    762\u001b[0m     \u001b[38;5;28;01mreturn\u001b[39;00m \u001b[38;5;28mself\u001b[39m\u001b[38;5;241m.\u001b[39mapply_raw()\n\u001b[1;32m--> 764\u001b[0m \u001b[38;5;28;01mreturn\u001b[39;00m \u001b[38;5;28;43mself\u001b[39;49m\u001b[38;5;241;43m.\u001b[39;49m\u001b[43mapply_standard\u001b[49m\u001b[43m(\u001b[49m\u001b[43m)\u001b[49m\n",
      "File \u001b[1;32mc:\\Users\\Zara\\anaconda3\\envs\\testing\\lib\\site-packages\\pandas\\core\\apply.py:891\u001b[0m, in \u001b[0;36mFrameApply.apply_standard\u001b[1;34m(self)\u001b[0m\n\u001b[0;32m    890\u001b[0m \u001b[38;5;28;01mdef\u001b[39;00m \u001b[38;5;21mapply_standard\u001b[39m(\u001b[38;5;28mself\u001b[39m):\n\u001b[1;32m--> 891\u001b[0m     results, res_index \u001b[38;5;241m=\u001b[39m \u001b[38;5;28;43mself\u001b[39;49m\u001b[38;5;241;43m.\u001b[39;49m\u001b[43mapply_series_generator\u001b[49m\u001b[43m(\u001b[49m\u001b[43m)\u001b[49m\n\u001b[0;32m    893\u001b[0m     \u001b[38;5;66;03m# wrap results\u001b[39;00m\n\u001b[0;32m    894\u001b[0m     \u001b[38;5;28;01mreturn\u001b[39;00m \u001b[38;5;28mself\u001b[39m\u001b[38;5;241m.\u001b[39mwrap_results(results, res_index)\n",
      "File \u001b[1;32mc:\\Users\\Zara\\anaconda3\\envs\\testing\\lib\\site-packages\\pandas\\core\\apply.py:907\u001b[0m, in \u001b[0;36mFrameApply.apply_series_generator\u001b[1;34m(self)\u001b[0m\n\u001b[0;32m    904\u001b[0m \u001b[38;5;28;01mwith\u001b[39;00m option_context(\u001b[38;5;124m\"\u001b[39m\u001b[38;5;124mmode.chained_assignment\u001b[39m\u001b[38;5;124m\"\u001b[39m, \u001b[38;5;28;01mNone\u001b[39;00m):\n\u001b[0;32m    905\u001b[0m     \u001b[38;5;28;01mfor\u001b[39;00m i, v \u001b[38;5;129;01min\u001b[39;00m \u001b[38;5;28menumerate\u001b[39m(series_gen):\n\u001b[0;32m    906\u001b[0m         \u001b[38;5;66;03m# ignore SettingWithCopy here in case the user mutates\u001b[39;00m\n\u001b[1;32m--> 907\u001b[0m         results[i] \u001b[38;5;241m=\u001b[39m \u001b[38;5;28;43mself\u001b[39;49m\u001b[38;5;241;43m.\u001b[39;49m\u001b[43mf\u001b[49m\u001b[43m(\u001b[49m\u001b[43mv\u001b[49m\u001b[43m)\u001b[49m\n\u001b[0;32m    908\u001b[0m         \u001b[38;5;28;01mif\u001b[39;00m \u001b[38;5;28misinstance\u001b[39m(results[i], ABCSeries):\n\u001b[0;32m    909\u001b[0m             \u001b[38;5;66;03m# If we have a view on v, we need to make a copy because\u001b[39;00m\n\u001b[0;32m    910\u001b[0m             \u001b[38;5;66;03m#  series_generator will swap out the underlying data\u001b[39;00m\n\u001b[0;32m    911\u001b[0m             results[i] \u001b[38;5;241m=\u001b[39m results[i]\u001b[38;5;241m.\u001b[39mcopy(deep\u001b[38;5;241m=\u001b[39m\u001b[38;5;28;01mFalse\u001b[39;00m)\n",
      "File \u001b[1;32mc:\\Users\\Zara\\anaconda3\\envs\\testing\\lib\\site-packages\\universal\\algos\\corn.py:111\u001b[0m, in \u001b[0;36mCORN.step_fast.<locals>.<lambda>\u001b[1;34m(r)\u001b[0m\n\u001b[0;32m    109\u001b[0m X_t \u001b[38;5;241m=\u001b[39m \u001b[38;5;28mself\u001b[39m\u001b[38;5;241m.\u001b[39mX_flat\u001b[38;5;241m.\u001b[39miloc[\u001b[38;5;28mself\u001b[39m\u001b[38;5;241m.\u001b[39mt]\n\u001b[0;32m    110\u001b[0m X_i \u001b[38;5;241m=\u001b[39m \u001b[38;5;28mself\u001b[39m\u001b[38;5;241m.\u001b[39mX_flat\u001b[38;5;241m.\u001b[39miloc[window \u001b[38;5;241m-\u001b[39m \u001b[38;5;241m1\u001b[39m : \u001b[38;5;28mself\u001b[39m\u001b[38;5;241m.\u001b[39mt]\n\u001b[1;32m--> 111\u001b[0m c \u001b[38;5;241m=\u001b[39m X_i\u001b[38;5;241m.\u001b[39mapply(\u001b[38;5;28;01mlambda\u001b[39;00m r: \u001b[43mnp\u001b[49m\u001b[38;5;241;43m.\u001b[39;49m\u001b[43mcorrcoef\u001b[49m\u001b[43m(\u001b[49m\u001b[43mr\u001b[49m\u001b[38;5;241;43m.\u001b[39;49m\u001b[43mvalues\u001b[49m\u001b[43m,\u001b[49m\u001b[43m \u001b[49m\u001b[43mX_t\u001b[49m\u001b[38;5;241;43m.\u001b[39;49m\u001b[43mvalues\u001b[49m\u001b[43m)\u001b[49m[\u001b[38;5;241m0\u001b[39m, \u001b[38;5;241m1\u001b[39m], axis\u001b[38;5;241m=\u001b[39m\u001b[38;5;241m1\u001b[39m)\n\u001b[0;32m    113\u001b[0m C \u001b[38;5;241m=\u001b[39m \u001b[38;5;28mself\u001b[39m\u001b[38;5;241m.\u001b[39mX\u001b[38;5;241m.\u001b[39miloc[c\u001b[38;5;241m.\u001b[39mindex[c \u001b[38;5;241m>\u001b[39m\u001b[38;5;241m=\u001b[39m \u001b[38;5;28mself\u001b[39m\u001b[38;5;241m.\u001b[39mrho] \u001b[38;5;241m+\u001b[39m \u001b[38;5;241m1\u001b[39m]\n\u001b[0;32m    115\u001b[0m \u001b[38;5;28;01mif\u001b[39;00m C\u001b[38;5;241m.\u001b[39mshape[\u001b[38;5;241m0\u001b[39m] \u001b[38;5;241m==\u001b[39m \u001b[38;5;241m0\u001b[39m:\n",
      "File \u001b[1;32mc:\\Users\\Zara\\anaconda3\\envs\\testing\\lib\\site-packages\\numpy\\lib\\function_base.py:2889\u001b[0m, in \u001b[0;36mcorrcoef\u001b[1;34m(x, y, rowvar, bias, ddof, dtype)\u001b[0m\n\u001b[0;32m   2885\u001b[0m \u001b[38;5;28;01mif\u001b[39;00m bias \u001b[38;5;129;01mis\u001b[39;00m \u001b[38;5;129;01mnot\u001b[39;00m np\u001b[38;5;241m.\u001b[39m_NoValue \u001b[38;5;129;01mor\u001b[39;00m ddof \u001b[38;5;129;01mis\u001b[39;00m \u001b[38;5;129;01mnot\u001b[39;00m np\u001b[38;5;241m.\u001b[39m_NoValue:\n\u001b[0;32m   2886\u001b[0m     \u001b[38;5;66;03m# 2015-03-15, 1.10\u001b[39;00m\n\u001b[0;32m   2887\u001b[0m     warnings\u001b[38;5;241m.\u001b[39mwarn(\u001b[38;5;124m'\u001b[39m\u001b[38;5;124mbias and ddof have no effect and are deprecated\u001b[39m\u001b[38;5;124m'\u001b[39m,\n\u001b[0;32m   2888\u001b[0m                   \u001b[38;5;167;01mDeprecationWarning\u001b[39;00m, stacklevel\u001b[38;5;241m=\u001b[39m\u001b[38;5;241m2\u001b[39m)\n\u001b[1;32m-> 2889\u001b[0m c \u001b[38;5;241m=\u001b[39m \u001b[43mcov\u001b[49m\u001b[43m(\u001b[49m\u001b[43mx\u001b[49m\u001b[43m,\u001b[49m\u001b[43m \u001b[49m\u001b[43my\u001b[49m\u001b[43m,\u001b[49m\u001b[43m \u001b[49m\u001b[43mrowvar\u001b[49m\u001b[43m,\u001b[49m\u001b[43m \u001b[49m\u001b[43mdtype\u001b[49m\u001b[38;5;241;43m=\u001b[39;49m\u001b[43mdtype\u001b[49m\u001b[43m)\u001b[49m\n\u001b[0;32m   2890\u001b[0m \u001b[38;5;28;01mtry\u001b[39;00m:\n\u001b[0;32m   2891\u001b[0m     d \u001b[38;5;241m=\u001b[39m diag(c)\n",
      "File \u001b[1;32mc:\\Users\\Zara\\anaconda3\\envs\\testing\\lib\\site-packages\\numpy\\lib\\function_base.py:2747\u001b[0m, in \u001b[0;36mcov\u001b[1;34m(m, y, rowvar, bias, ddof, fweights, aweights, dtype)\u001b[0m\n\u001b[0;32m   2745\u001b[0m \u001b[38;5;28;01melse\u001b[39;00m:\n\u001b[0;32m   2746\u001b[0m     X_T \u001b[38;5;241m=\u001b[39m (X\u001b[38;5;241m*\u001b[39mw)\u001b[38;5;241m.\u001b[39mT\n\u001b[1;32m-> 2747\u001b[0m c \u001b[38;5;241m=\u001b[39m \u001b[43mdot\u001b[49m\u001b[43m(\u001b[49m\u001b[43mX\u001b[49m\u001b[43m,\u001b[49m\u001b[43m \u001b[49m\u001b[43mX_T\u001b[49m\u001b[38;5;241;43m.\u001b[39;49m\u001b[43mconj\u001b[49m\u001b[43m(\u001b[49m\u001b[43m)\u001b[49m\u001b[43m)\u001b[49m\n\u001b[0;32m   2748\u001b[0m c \u001b[38;5;241m*\u001b[39m\u001b[38;5;241m=\u001b[39m np\u001b[38;5;241m.\u001b[39mtrue_divide(\u001b[38;5;241m1\u001b[39m, fact)\n\u001b[0;32m   2749\u001b[0m \u001b[38;5;28;01mreturn\u001b[39;00m c\u001b[38;5;241m.\u001b[39msqueeze()\n",
      "\u001b[1;31mKeyboardInterrupt\u001b[0m: "
     ]
    }
   ],
   "source": [
    "algo = algos.CORN()\n",
    "# run\n",
    "result = algo.run(data)\n",
    "print(\"CORN\")\n",
    "print(result.summary())"
   ]
  },
  {
   "cell_type": "markdown",
   "metadata": {},
   "source": [
    "# GOOD"
   ]
  },
  {
   "cell_type": "code",
   "execution_count": 23,
   "metadata": {},
   "outputs": [
    {
     "name": "stdout",
     "output_type": "stream",
     "text": [
      "BestMarkowitz\n",
      "Summary:\n",
      "    Profit factor: 1.14\n",
      "    Sharpe ratio: 0.89 ± 0.37\n",
      "    Ulcer index: 1.12\n",
      "    Information ratio (wrt benchmark): 0.59\n",
      "    Benchmark sharpe: 0.63 ± 0.35\n",
      "    Appraisal ratio (wrt benchmark): 0.63 ± 0.32\n",
      "    Beta / Alpha: 0.94 / 6.118%\n",
      "    Annualized return: 12.92%\n",
      "    Annualized volatility: 14.43%\n",
      "    Longest drawdown: 893 days\n",
      "    Max drawdown: 30.42%\n",
      "    Winning days: 51.5%\n",
      "    Annual turnover: 3.0\n",
      "        \n"
     ]
    }
   ],
   "source": [
    "algo = algos.BestMarkowitz()\n",
    "# run\n",
    "result = algo.run(data)\n",
    "print(\"BestMarkowitz\")\n",
    "print(result.summary())"
   ]
  },
  {
   "cell_type": "code",
   "execution_count": 24,
   "metadata": {},
   "outputs": [
    {
     "name": "stdout",
     "output_type": "stream",
     "text": [
      "Kelly\n",
      "Summary:\n",
      "    Profit factor: 0.89\n",
      "    Sharpe ratio: 0.01 ± 0.32\n",
      "    Ulcer index: 0.02\n",
      "    Information ratio (wrt benchmark): -0.04\n",
      "    Benchmark sharpe: 0.63 ± 0.35\n",
      "    Appraisal ratio (wrt benchmark): -0.24 ± 0.32\n",
      "    Beta / Alpha: 4.25 / -28.941%\n",
      "    Annualized return: 1.80%\n",
      "    Annualized volatility: 130.47%\n",
      "    Longest drawdown: 2465 days\n",
      "    Max drawdown: 100.00%\n",
      "    Winning days: 51.3%\n",
      "    Annual turnover: 294.6\n",
      "        \n"
     ]
    }
   ],
   "source": [
    "algo = algos.Kelly()\n",
    "# run\n",
    "result = algo.run(data)\n",
    "print(\"Kelly\")\n",
    "print(result.summary())"
   ]
  },
  {
   "cell_type": "markdown",
   "metadata": {},
   "source": [
    "notes: slow"
   ]
  },
  {
   "cell_type": "code",
   "execution_count": 25,
   "metadata": {},
   "outputs": [
    {
     "name": "stdout",
     "output_type": "stream",
     "text": [
      "ONS\n",
      "Summary:\n",
      "    Profit factor: 1.07\n",
      "    Sharpe ratio: 0.49 ± 0.33\n",
      "    Ulcer index: 0.39\n",
      "    Information ratio (wrt benchmark): 0.06\n",
      "    Benchmark sharpe: 0.63 ± 0.35\n",
      "    Appraisal ratio (wrt benchmark): 0.11 ± 0.32\n",
      "    Beta / Alpha: 0.92 / 1.375%\n",
      "    Annualized return: 8.03%\n",
      "    Annualized volatility: 16.33%\n",
      "    Longest drawdown: 768 days\n",
      "    Max drawdown: 43.48%\n",
      "    Winning days: 50.5%\n",
      "    Annual turnover: 9.8\n",
      "        \n"
     ]
    }
   ],
   "source": [
    "algo = algos.ONS()\n",
    "# run\n",
    "result = algo.run(data)\n",
    "print(\"ONS\")\n",
    "print(result.summary())"
   ]
  },
  {
   "cell_type": "code",
   "execution_count": 26,
   "metadata": {},
   "outputs": [
    {
     "name": "stderr",
     "output_type": "stream",
     "text": [
      "WARNING:root:Assets containing null values: Index(['A', 'B', 'C', 'D', 'E', 'F'], dtype='object')\n",
      "c:\\Users\\Zara\\anaconda3\\envs\\testing\\lib\\site-packages\\universal\\algos\\estimators.py:122: FutureWarning: In a future version of pandas all arguments of DataFrame.dropna will be keyword-only.\n",
      "  Yn = Y.dropna(1, how=\"any\")\n"
     ]
    },
    {
     "ename": "ValueError",
     "evalue": "at least one array or dtype is required",
     "output_type": "error",
     "traceback": [
      "\u001b[1;31m---------------------------------------------------------------------------\u001b[0m",
      "\u001b[1;31mValueError\u001b[0m                                Traceback (most recent call last)",
      "Cell \u001b[1;32mIn[26], line 3\u001b[0m\n\u001b[0;32m      1\u001b[0m algo \u001b[38;5;241m=\u001b[39m algos\u001b[38;5;241m.\u001b[39mMPT()\n\u001b[0;32m      2\u001b[0m \u001b[38;5;66;03m# run\u001b[39;00m\n\u001b[1;32m----> 3\u001b[0m result \u001b[38;5;241m=\u001b[39m \u001b[43malgo\u001b[49m\u001b[38;5;241;43m.\u001b[39;49m\u001b[43mrun\u001b[49m\u001b[43m(\u001b[49m\u001b[43mdata\u001b[49m\u001b[43m)\u001b[49m\n\u001b[0;32m      4\u001b[0m \u001b[38;5;28mprint\u001b[39m(\u001b[38;5;124m\"\u001b[39m\u001b[38;5;124mMPT\u001b[39m\u001b[38;5;124m\"\u001b[39m)\n\u001b[0;32m      5\u001b[0m \u001b[38;5;28mprint\u001b[39m(result\u001b[38;5;241m.\u001b[39msummary())\n",
      "File \u001b[1;32mc:\\Users\\Zara\\anaconda3\\envs\\testing\\lib\\site-packages\\universal\\algo.py:136\u001b[0m, in \u001b[0;36mAlgo.run\u001b[1;34m(self, S, n_jobs, log_progress)\u001b[0m\n\u001b[0;32m    134\u001b[0m \u001b[38;5;28;01mif\u001b[39;00m n_jobs \u001b[38;5;241m==\u001b[39m \u001b[38;5;241m1\u001b[39m:\n\u001b[0;32m    135\u001b[0m     \u001b[38;5;28;01mtry\u001b[39;00m:\n\u001b[1;32m--> 136\u001b[0m         B \u001b[38;5;241m=\u001b[39m \u001b[38;5;28;43mself\u001b[39;49m\u001b[38;5;241;43m.\u001b[39;49m\u001b[43mweights\u001b[49m\u001b[43m(\u001b[49m\u001b[43mX\u001b[49m\u001b[43m,\u001b[49m\u001b[43m \u001b[49m\u001b[43mlog_progress\u001b[49m\u001b[38;5;241;43m=\u001b[39;49m\u001b[43mlog_progress\u001b[49m\u001b[43m)\u001b[49m\n\u001b[0;32m    137\u001b[0m     \u001b[38;5;28;01mexcept\u001b[39;00m \u001b[38;5;167;01mTypeError\u001b[39;00m:  \u001b[38;5;66;03m# weights are missing log_progress parameter\u001b[39;00m\n\u001b[0;32m    138\u001b[0m         B \u001b[38;5;241m=\u001b[39m \u001b[38;5;28mself\u001b[39m\u001b[38;5;241m.\u001b[39mweights(X)\n",
      "File \u001b[1;32mc:\\Users\\Zara\\anaconda3\\envs\\testing\\lib\\site-packages\\universal\\algo.py:93\u001b[0m, in \u001b[0;36mAlgo.weights\u001b[1;34m(self, X, min_history, log_progress)\u001b[0m\n\u001b[0;32m     91\u001b[0m \u001b[38;5;66;03m# predict for t+1\u001b[39;00m\n\u001b[0;32m     92\u001b[0m history \u001b[38;5;241m=\u001b[39m X\u001b[38;5;241m.\u001b[39miloc[: t \u001b[38;5;241m+\u001b[39m \u001b[38;5;241m1\u001b[39m]\n\u001b[1;32m---> 93\u001b[0m last_b \u001b[38;5;241m=\u001b[39m \u001b[38;5;28;43mself\u001b[39;49m\u001b[38;5;241;43m.\u001b[39;49m\u001b[43mstep\u001b[49m\u001b[43m(\u001b[49m\u001b[43mx\u001b[49m\u001b[43m,\u001b[49m\u001b[43m \u001b[49m\u001b[43mlast_b\u001b[49m\u001b[43m,\u001b[49m\u001b[43m \u001b[49m\u001b[43mhistory\u001b[49m\u001b[43m)\u001b[49m\n\u001b[0;32m     95\u001b[0m \u001b[38;5;66;03m# convert last_b to suitable format if needed\u001b[39;00m\n\u001b[0;32m     96\u001b[0m \u001b[38;5;28;01mif\u001b[39;00m \u001b[38;5;28mtype\u001b[39m(last_b) \u001b[38;5;241m==\u001b[39m np\u001b[38;5;241m.\u001b[39mmatrix:\n\u001b[0;32m     97\u001b[0m     \u001b[38;5;66;03m# remove dimension\u001b[39;00m\n",
      "File \u001b[1;32mc:\\Users\\Zara\\anaconda3\\envs\\testing\\lib\\site-packages\\universal\\algos\\mpt.py:229\u001b[0m, in \u001b[0;36mMPT.step\u001b[1;34m(self, x, last_b, history, **kwargs)\u001b[0m\n\u001b[0;32m    218\u001b[0m     logging\u001b[38;5;241m.\u001b[39mwarning(\n\u001b[0;32m    219\u001b[0m         \u001b[38;5;124m\"\u001b[39m\u001b[38;5;124mAssets containing null values: \u001b[39m\u001b[38;5;132;01m{}\u001b[39;00m\u001b[38;5;124m\"\u001b[39m\u001b[38;5;241m.\u001b[39mformat(X\u001b[38;5;241m.\u001b[39mcolumns[na_assets])\n\u001b[0;32m    220\u001b[0m     )\n\u001b[0;32m    221\u001b[0m     \u001b[38;5;66;03m# raise Exception('Assets containing null values: {}'.format(X.columns[na_assets]))\u001b[39;00m\n\u001b[0;32m    222\u001b[0m \n\u001b[0;32m    223\u001b[0m \u001b[38;5;66;03m# TODO: should we enable this?\u001b[39;00m\n\u001b[1;32m   (...)\u001b[0m\n\u001b[0;32m    227\u001b[0m \n\u001b[0;32m    228\u001b[0m \u001b[38;5;66;03m# get sigma and mu estimations\u001b[39;00m\n\u001b[1;32m--> 229\u001b[0m sigma \u001b[38;5;241m=\u001b[39m \u001b[38;5;28;43mself\u001b[39;49m\u001b[38;5;241;43m.\u001b[39;49m\u001b[43mcov_estimator\u001b[49m\u001b[38;5;241;43m.\u001b[39;49m\u001b[43mfit\u001b[49m\u001b[43m(\u001b[49m\u001b[43mX\u001b[49m\u001b[43m \u001b[49m\u001b[38;5;241;43m-\u001b[39;49m\u001b[43m \u001b[49m\u001b[38;5;241;43m1\u001b[39;49m\u001b[43m)\u001b[49m\n\u001b[0;32m    230\u001b[0m mu \u001b[38;5;241m=\u001b[39m \u001b[38;5;28mself\u001b[39m\u001b[38;5;241m.\u001b[39mmu_estimator\u001b[38;5;241m.\u001b[39mfit(X, sigma)\n\u001b[0;32m    232\u001b[0m ss \u001b[38;5;241m=\u001b[39m pd\u001b[38;5;241m.\u001b[39mSeries(np\u001b[38;5;241m.\u001b[39mdiag(sigma), index\u001b[38;5;241m=\u001b[39msigma\u001b[38;5;241m.\u001b[39mcolumns)\n",
      "File \u001b[1;32mc:\\Users\\Zara\\anaconda3\\envs\\testing\\lib\\site-packages\\universal\\algos\\estimators.py:123\u001b[0m, in \u001b[0;36mCovarianceEstimator.fit\u001b[1;34m(self, X)\u001b[0m\n\u001b[0;32m    120\u001b[0m \u001b[38;5;28;01melse\u001b[39;00m:\n\u001b[0;32m    121\u001b[0m     \u001b[38;5;66;03m# compute full covariance for non-NaN columns\u001b[39;00m\n\u001b[0;32m    122\u001b[0m     Yn \u001b[38;5;241m=\u001b[39m Y\u001b[38;5;241m.\u001b[39mdropna(\u001b[38;5;241m1\u001b[39m, how\u001b[38;5;241m=\u001b[39m\u001b[38;5;124m\"\u001b[39m\u001b[38;5;124many\u001b[39m\u001b[38;5;124m\"\u001b[39m)\n\u001b[1;32m--> 123\u001b[0m     full_cov \u001b[38;5;241m=\u001b[39m \u001b[38;5;28;43mself\u001b[39;49m\u001b[38;5;241;43m.\u001b[39;49m\u001b[43mcov_est\u001b[49m\u001b[38;5;241;43m.\u001b[39;49m\u001b[43mfit\u001b[49m\u001b[43m(\u001b[49m\u001b[43mYn\u001b[49m\u001b[43m)\u001b[49m\u001b[38;5;241m.\u001b[39mcovariance_\n\u001b[0;32m    124\u001b[0m     full_cov \u001b[38;5;241m=\u001b[39m pd\u001b[38;5;241m.\u001b[39mDataFrame(full_cov, index\u001b[38;5;241m=\u001b[39mYn\u001b[38;5;241m.\u001b[39mcolumns, columns\u001b[38;5;241m=\u001b[39mYn\u001b[38;5;241m.\u001b[39mcolumns)\n\u001b[0;32m    125\u001b[0m     full_cov \u001b[38;5;241m=\u001b[39m full_cov\u001b[38;5;241m.\u001b[39mreindex(Y\u001b[38;5;241m.\u001b[39mcolumns)\u001b[38;5;241m.\u001b[39mreindex(columns\u001b[38;5;241m=\u001b[39mY\u001b[38;5;241m.\u001b[39mcolumns)\n",
      "File \u001b[1;32mc:\\Users\\Zara\\anaconda3\\envs\\testing\\lib\\site-packages\\sklearn\\base.py:1474\u001b[0m, in \u001b[0;36m_fit_context.<locals>.decorator.<locals>.wrapper\u001b[1;34m(estimator, *args, **kwargs)\u001b[0m\n\u001b[0;32m   1467\u001b[0m     estimator\u001b[38;5;241m.\u001b[39m_validate_params()\n\u001b[0;32m   1469\u001b[0m \u001b[38;5;28;01mwith\u001b[39;00m config_context(\n\u001b[0;32m   1470\u001b[0m     skip_parameter_validation\u001b[38;5;241m=\u001b[39m(\n\u001b[0;32m   1471\u001b[0m         prefer_skip_nested_validation \u001b[38;5;129;01mor\u001b[39;00m global_skip_validation\n\u001b[0;32m   1472\u001b[0m     )\n\u001b[0;32m   1473\u001b[0m ):\n\u001b[1;32m-> 1474\u001b[0m     \u001b[38;5;28;01mreturn\u001b[39;00m fit_method(estimator, \u001b[38;5;241m*\u001b[39margs, \u001b[38;5;241m*\u001b[39m\u001b[38;5;241m*\u001b[39mkwargs)\n",
      "File \u001b[1;32mc:\\Users\\Zara\\anaconda3\\envs\\testing\\lib\\site-packages\\sklearn\\covariance\\_empirical_covariance.py:248\u001b[0m, in \u001b[0;36mEmpiricalCovariance.fit\u001b[1;34m(self, X, y)\u001b[0m\n\u001b[0;32m    230\u001b[0m \u001b[38;5;129m@_fit_context\u001b[39m(prefer_skip_nested_validation\u001b[38;5;241m=\u001b[39m\u001b[38;5;28;01mTrue\u001b[39;00m)\n\u001b[0;32m    231\u001b[0m \u001b[38;5;28;01mdef\u001b[39;00m \u001b[38;5;21mfit\u001b[39m(\u001b[38;5;28mself\u001b[39m, X, y\u001b[38;5;241m=\u001b[39m\u001b[38;5;28;01mNone\u001b[39;00m):\n\u001b[0;32m    232\u001b[0m \u001b[38;5;250m    \u001b[39m\u001b[38;5;124;03m\"\"\"Fit the maximum likelihood covariance estimator to X.\u001b[39;00m\n\u001b[0;32m    233\u001b[0m \n\u001b[0;32m    234\u001b[0m \u001b[38;5;124;03m    Parameters\u001b[39;00m\n\u001b[1;32m   (...)\u001b[0m\n\u001b[0;32m    246\u001b[0m \u001b[38;5;124;03m        Returns the instance itself.\u001b[39;00m\n\u001b[0;32m    247\u001b[0m \u001b[38;5;124;03m    \"\"\"\u001b[39;00m\n\u001b[1;32m--> 248\u001b[0m     X \u001b[38;5;241m=\u001b[39m \u001b[38;5;28;43mself\u001b[39;49m\u001b[38;5;241;43m.\u001b[39;49m\u001b[43m_validate_data\u001b[49m\u001b[43m(\u001b[49m\u001b[43mX\u001b[49m\u001b[43m)\u001b[49m\n\u001b[0;32m    249\u001b[0m     \u001b[38;5;28;01mif\u001b[39;00m \u001b[38;5;28mself\u001b[39m\u001b[38;5;241m.\u001b[39massume_centered:\n\u001b[0;32m    250\u001b[0m         \u001b[38;5;28mself\u001b[39m\u001b[38;5;241m.\u001b[39mlocation_ \u001b[38;5;241m=\u001b[39m np\u001b[38;5;241m.\u001b[39mzeros(X\u001b[38;5;241m.\u001b[39mshape[\u001b[38;5;241m1\u001b[39m])\n",
      "File \u001b[1;32mc:\\Users\\Zara\\anaconda3\\envs\\testing\\lib\\site-packages\\sklearn\\base.py:633\u001b[0m, in \u001b[0;36mBaseEstimator._validate_data\u001b[1;34m(self, X, y, reset, validate_separately, cast_to_ndarray, **check_params)\u001b[0m\n\u001b[0;32m    631\u001b[0m         out \u001b[38;5;241m=\u001b[39m X, y\n\u001b[0;32m    632\u001b[0m \u001b[38;5;28;01melif\u001b[39;00m \u001b[38;5;129;01mnot\u001b[39;00m no_val_X \u001b[38;5;129;01mand\u001b[39;00m no_val_y:\n\u001b[1;32m--> 633\u001b[0m     out \u001b[38;5;241m=\u001b[39m check_array(X, input_name\u001b[38;5;241m=\u001b[39m\u001b[38;5;124m\"\u001b[39m\u001b[38;5;124mX\u001b[39m\u001b[38;5;124m\"\u001b[39m, \u001b[38;5;241m*\u001b[39m\u001b[38;5;241m*\u001b[39mcheck_params)\n\u001b[0;32m    634\u001b[0m \u001b[38;5;28;01melif\u001b[39;00m no_val_X \u001b[38;5;129;01mand\u001b[39;00m \u001b[38;5;129;01mnot\u001b[39;00m no_val_y:\n\u001b[0;32m    635\u001b[0m     out \u001b[38;5;241m=\u001b[39m _check_y(y, \u001b[38;5;241m*\u001b[39m\u001b[38;5;241m*\u001b[39mcheck_params)\n",
      "File \u001b[1;32mc:\\Users\\Zara\\anaconda3\\envs\\testing\\lib\\site-packages\\sklearn\\utils\\validation.py:879\u001b[0m, in \u001b[0;36mcheck_array\u001b[1;34m(array, accept_sparse, accept_large_sparse, dtype, order, copy, force_all_finite, ensure_2d, allow_nd, ensure_min_samples, ensure_min_features, estimator, input_name)\u001b[0m\n\u001b[0;32m    875\u001b[0m pandas_requires_conversion \u001b[38;5;241m=\u001b[39m \u001b[38;5;28many\u001b[39m(\n\u001b[0;32m    876\u001b[0m     _pandas_dtype_needs_early_conversion(i) \u001b[38;5;28;01mfor\u001b[39;00m i \u001b[38;5;129;01min\u001b[39;00m dtypes_orig\n\u001b[0;32m    877\u001b[0m )\n\u001b[0;32m    878\u001b[0m \u001b[38;5;28;01mif\u001b[39;00m \u001b[38;5;28mall\u001b[39m(\u001b[38;5;28misinstance\u001b[39m(dtype_iter, np\u001b[38;5;241m.\u001b[39mdtype) \u001b[38;5;28;01mfor\u001b[39;00m dtype_iter \u001b[38;5;129;01min\u001b[39;00m dtypes_orig):\n\u001b[1;32m--> 879\u001b[0m     dtype_orig \u001b[38;5;241m=\u001b[39m \u001b[43mnp\u001b[49m\u001b[38;5;241;43m.\u001b[39;49m\u001b[43mresult_type\u001b[49m\u001b[43m(\u001b[49m\u001b[38;5;241;43m*\u001b[39;49m\u001b[43mdtypes_orig\u001b[49m\u001b[43m)\u001b[49m\n\u001b[0;32m    880\u001b[0m \u001b[38;5;28;01melif\u001b[39;00m pandas_requires_conversion \u001b[38;5;129;01mand\u001b[39;00m \u001b[38;5;28many\u001b[39m(d \u001b[38;5;241m==\u001b[39m \u001b[38;5;28mobject\u001b[39m \u001b[38;5;28;01mfor\u001b[39;00m d \u001b[38;5;129;01min\u001b[39;00m dtypes_orig):\n\u001b[0;32m    881\u001b[0m     \u001b[38;5;66;03m# Force object if any of the dtypes is an object\u001b[39;00m\n\u001b[0;32m    882\u001b[0m     dtype_orig \u001b[38;5;241m=\u001b[39m \u001b[38;5;28mobject\u001b[39m\n",
      "\u001b[1;31mValueError\u001b[0m: at least one array or dtype is required"
     ]
    }
   ],
   "source": [
    "algo = algos.MPT()\n",
    "# run\n",
    "result = algo.run(data)\n",
    "print(\"MPT\")\n",
    "print(result.summary())"
   ]
  },
  {
   "cell_type": "markdown",
   "metadata": {},
   "source": [
    "# More Portfolio Optimization with Different Git"
   ]
  },
  {
   "cell_type": "code",
   "execution_count": 27,
   "metadata": {},
   "outputs": [
    {
     "name": "stdout",
     "output_type": "stream",
     "text": [
      "OrderedDict([('A', 0.55617), ('B', 0.0), ('C', 0.0), ('D', 0.0), ('E', 0.18206), ('F', 0.26177)])\n",
      "Expected annual return: 9.5%\n",
      "Annual volatility: 14.3%\n",
      "Sharpe Ratio: 0.52\n"
     ]
    },
    {
     "data": {
      "text/plain": [
       "(0.09485290019721596, 0.1428901477074464, 0.5238492744123264)"
      ]
     },
     "execution_count": 27,
     "metadata": {},
     "output_type": "execute_result"
    }
   ],
   "source": [
    "import pandas as pd\n",
    "from pypfopt import EfficientFrontier\n",
    "from pypfopt import risk_models\n",
    "from pypfopt import expected_returns\n",
    "\n",
    "# Read in price data\n",
    "df = pd.read_csv('Case 2 Data 2024.csv', index_col=0)\n",
    "\n",
    "# Calculate expected returns and sample covariance\n",
    "mu = expected_returns.mean_historical_return(df)\n",
    "S = risk_models.sample_cov(df)\n",
    "\n",
    "# Optimize for maximal Sharpe ratio\n",
    "ef = EfficientFrontier(mu, S)\n",
    "raw_weights = ef.max_sharpe()\n",
    "cleaned_weights = ef.clean_weights()\n",
    "ef.save_weights_to_file(\"weights.csv\")  # saves to file\n",
    "print(cleaned_weights)\n",
    "ef.portfolio_performance(verbose=True)"
   ]
  },
  {
   "cell_type": "code",
   "execution_count": 31,
   "metadata": {},
   "outputs": [],
   "source": [
    "import numpy as np\n",
    "import pandas as pd\n",
    "\n",
    "from pypfopt import CLA, BlackLittermanModel, EfficientFrontier, HRPOpt, black_litterman, expected_returns, risk_models   \n",
    "\n",
    "# Reading in the data; preparing expected returns and a risk model\n",
    "df = pd.read_csv('Case 2 Data 2024.csv', index_col=0)\n",
    "returns = df.pct_change().dropna()\n",
    "mu = expected_returns.mean_historical_return(df)\n",
    "S = risk_models.sample_cov(df)"
   ]
  },
  {
   "cell_type": "code",
   "execution_count": 38,
   "metadata": {},
   "outputs": [
    {
     "name": "stdout",
     "output_type": "stream",
     "text": [
      "Expected annual return: 3.3%\n",
      "Annual volatility: 11.3%\n",
      "Sharpe Ratio: 0.12\n",
      "Expected annual return: 5.7%\n",
      "Annual volatility: 11.1%\n",
      "Sharpe Ratio: 0.34\n",
      "OrderedDict([('A', 0.1957859600035112), ('B', 0.23737579293108707), ('C', 0.18344415105563502), ('D', 0.14534826795472613), ('E', 0.1036073505604124), ('F', 0.13443847749462814)])\n"
     ]
    },
    {
     "name": "stderr",
     "output_type": "stream",
     "text": [
      "C:\\Users\\Zara\\AppData\\Local\\Temp\\ipykernel_24500\\4019434079.py:18: FutureWarning: The squeeze argument has been deprecated and will be removed in a future version. Append .squeeze(\"columns\") to the call to squeeze.\n",
      "\n",
      "\n",
      "  spy_prices = pd.read_csv(\"Case 2 Data 2024.csv\", parse_dates=True, index_col=0, squeeze=True)\n"
     ]
    }
   ],
   "source": [
    "# Now try with a nonconvex objective from  Kolm et al (2014)\n",
    "def deviation_risk_parity(w, cov_matrix):\n",
    "    diff = w * np.dot(cov_matrix, w) - (w * np.dot(cov_matrix, w)).reshape(-1, 1)\n",
    "    return (diff**2).sum().sum()\n",
    "\n",
    "\n",
    "ef = EfficientFrontier(mu, S)\n",
    "weights = ef.nonconvex_objective(deviation_risk_parity, ef.cov_matrix)\n",
    "ef.portfolio_performance(verbose=True)\n",
    "\n",
    "\"\"\"\n",
    "Expected annual return: 22.9%\n",
    "Annual volatility: 19.2%\n",
    "Sharpe Ratio: 1.09\n",
    "\"\"\"\n",
    "\n",
    "# Black-Litterman\n",
    "spy_prices = pd.read_csv(\"Case 2 Data 2024.csv\", parse_dates=True, index_col=0, squeeze=True)\n",
    "delta = black_litterman.market_implied_risk_aversion(spy_prices)\n",
    "\n",
    "# 1. SBUX will drop by 20%\n",
    "# 2. GOOG outperforms FB by 10%\n",
    "# 3. BAC and JPM will outperform T and GE by 15%\n",
    "views = np.array([-0.20, 0.10, 0.15]).reshape(-1, 1)\n",
    "picking = np.array(\n",
    "    [\n",
    "        [0, 0, 0, 0, 0, 0, 0, 0, 0, 0, 0, 0, 0, 0, 0, 0, 0, 0, 0, 1],\n",
    "        [1, 0, -1, 0, 0, 0, 0, 0, 0, 0, 0, 0, 0, 0, 0, 0, 0, 0, 0, 0],\n",
    "        [0, 0, 0, 0, 0, -0.5, 0, 0, 0.5, 0, -0.5, 0, 0, 0, 0, 0, 0, 0, 0.5, 0],\n",
    "    ]\n",
    ")\n",
    "\n",
    "# Hierarchical risk parity\n",
    "hrp = HRPOpt(returns)\n",
    "weights = hrp.optimize()\n",
    "hrp.portfolio_performance(verbose=True)\n",
    "print(weights)\n"
   ]
  },
  {
   "cell_type": "code",
   "execution_count": null,
   "metadata": {},
   "outputs": [],
   "source": []
  },
  {
   "cell_type": "code",
   "execution_count": null,
   "metadata": {},
   "outputs": [],
   "source": []
  },
  {
   "cell_type": "code",
   "execution_count": null,
   "metadata": {},
   "outputs": [],
   "source": []
  },
  {
   "cell_type": "code",
   "execution_count": null,
   "metadata": {},
   "outputs": [],
   "source": []
  },
  {
   "cell_type": "code",
   "execution_count": null,
   "metadata": {},
   "outputs": [],
   "source": []
  },
  {
   "cell_type": "code",
   "execution_count": null,
   "metadata": {},
   "outputs": [],
   "source": []
  },
  {
   "cell_type": "code",
   "execution_count": null,
   "metadata": {},
   "outputs": [],
   "source": []
  },
  {
   "cell_type": "code",
   "execution_count": null,
   "metadata": {},
   "outputs": [],
   "source": []
  }
 ],
 "metadata": {
  "kernelspec": {
   "display_name": "testing",
   "language": "python",
   "name": "python3"
  },
  "language_info": {
   "codemirror_mode": {
    "name": "ipython",
    "version": 3
   },
   "file_extension": ".py",
   "mimetype": "text/x-python",
   "name": "python",
   "nbconvert_exporter": "python",
   "pygments_lexer": "ipython3",
   "version": "3.10.13"
  }
 },
 "nbformat": 4,
 "nbformat_minor": 2
}
